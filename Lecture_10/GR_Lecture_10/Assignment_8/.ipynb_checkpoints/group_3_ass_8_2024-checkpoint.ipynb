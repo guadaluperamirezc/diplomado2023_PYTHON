{
 "cells": [
  {
   "cell_type": "markdown",
   "id": "a9a174d3",
   "metadata": {},
   "source": [
    "# Assignment #8\n"
   ]
  },
  {
   "cell_type": "markdown",
   "id": "64b09341",
   "metadata": {},
   "source": [
    "1. Import data from the online source"
   ]
  },
  {
   "cell_type": "markdown",
   "id": "e890b027",
   "metadata": {},
   "source": [
    "2. Generate ubigeo for Departments and Provinces taking the first two and four numbers. "
   ]
  },
  {
   "cell_type": "markdown",
   "id": "99fa479e",
   "metadata": {},
   "source": [
    "3. Use geopandas to plot the number of cases in 2021 by the district using a continuous legend. Do not forget to indicate the color of NA values. Use the provided shapefile.\n"
   ]
  },
  {
   "cell_type": "markdown",
   "id": "7764f524",
   "metadata": {},
   "source": [
    "4. Use geopandas to plot the number of cases in 2021 by the province using a continuous legend. Do not forget to indicate the color of NA values. Use the provided shapefile. For this task, you will have to aggregate shapefiles at the province level.\n"
   ]
  },
  {
   "cell_type": "markdown",
   "id": "3641736c",
   "metadata": {},
   "source": [
    "5. Use geopandas to plot the number of cases by the department for all the years using subplots. Every subplot for each year. Do not forget to indicate the color of NA values. Use the provided shapefile. For this task, you will have to aggregate shapefiles at the department level.\n"
   ]
  },
  {
   "cell_type": "markdown",
   "id": "c9b670c3",
   "metadata": {},
   "source": [
    "6. Use geopandas to plot the number of cases by the department for all 2021 quarters using subplots. Every subplot for each quarter. Use a categorical legend with 5 bins. Do not forget to indicate the color of NA values. Use the provided shapefile. For this task, you will have to aggregate shapefiles at the department level. Hint: Use Semana variable to group by quarters.\n"
   ]
  }
 ],
 "metadata": {
  "kernelspec": {
   "display_name": "Python 3 (ipykernel)",
   "language": "python",
   "name": "python3"
  },
  "language_info": {
   "codemirror_mode": {
    "name": "ipython",
    "version": 3
   },
   "file_extension": ".py",
   "mimetype": "text/x-python",
   "name": "python",
   "nbconvert_exporter": "python",
   "pygments_lexer": "ipython3",
   "version": "3.9.12"
  }
 },
 "nbformat": 4,
 "nbformat_minor": 5
}
