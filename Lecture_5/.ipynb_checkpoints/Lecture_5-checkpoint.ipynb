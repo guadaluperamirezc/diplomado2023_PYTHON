{
 "cells": [
  {
   "cell_type": "code",
   "execution_count": 1,
   "metadata": {},
   "outputs": [],
   "source": [
    "import pickle\n",
    "import pandas as pd\n",
    "import numpy as np"
   ]
  },
  {
   "cell_type": "markdown",
   "metadata": {},
   "source": [
    "# 5. Functions and Class\n",
    "In this class we will cover everything related to creating functions and clases in Python."
   ]
  },
  {
   "cell_type": "markdown",
   "metadata": {},
   "source": [
    "- <a href='##5.1.'>5.1. Functions</a>\n",
    "     - <a href='##5.1.1.'>5.1.1. The Importance of Python Functions </a> \n",
    "     - <a href='##5.1.2.'>5.1.2. Basic structure of a function </a> \n",
    "     - <a href='##5.1.3.'>5.1.3. Function without `return` function </a> \n",
    "     - <a href='##5.1.5.'>5.1.5. Multiple objects for return </a> \n",
    "     - <a href='##5.1.5.'>5.1.5. If condition with return </a>\n",
    "     - <a href='##5.1.6.'>5.1.6. Default values to parameters </a> \n",
    "     - <a href='##5.1.7.'>5.1.7. Specify the type of a parameter and the type of the return type of a function </a> \n",
    "     - <a href='##5.1.8.'>5.1.8. Local variables VS Global variables </a> \n",
    "     - <a href='##5.1.9.'>5.1.9. Args </a> \n",
    "     - <a href='##5.1.10.'>5.1.10. Kwargs </a> \n",
    "- <a href='##5.2.'>5.2. Class </a> \n",
    "     - <a href='##5.2.1.'>5.2.1. The Importance of Python Classes </a> \n",
    "     - <a href='##5.2.2.'> 5.2.2. Defining a class </a> \n",
    "     - <a href='##5.2.3.'> 5.2.3. Attributes </a> \n",
    "     - <a href='##5.2.5.'> 5.2.5. Method </a>\n",
    "     - <a href='##5.2.6.'> 5.2.6. \\_\\_init\\_\\_() </a>\n",
    "     - <a href='##5.2.7.'> 5.2.7. Self </a>\n",
    "- <a href='##5.3.'>5.3. References </a>  "
   ]
  },
  {
   "cell_type": "markdown",
   "metadata": {},
   "source": [
    "##  <a id='#5.1.'>5.1. Functions</a>"
   ]
  },
  {
   "cell_type": "markdown",
   "metadata": {},
   "source": [
    "### <a id = '#5.1.1.'> 5.1.1.The Importance of Python Functions </a> "
   ]
  },
  {
   "cell_type": "markdown",
   "metadata": {},
   "source": [
    "- Abstraction and Reusability: Replicate the code you will use over and over again.\n",
    "- Modularity: Functions allow complex processes to be broken up into smaller steps.\n",
    "- Namespace Separation: It allows you to use variables  and used within a Python function even if they have the same name as variables defined in other functions or in the main program. "
   ]
  },
  {
   "cell_type": "markdown",
   "metadata": {},
   "source": [
    "### <a id='#5.1.2.'> 5.1.2. Basic structure of a function </a> \n",
    "A function requires **parameters**, **code** to execute and the **return** function. The **def** keyword introduces a new Python function definition.\n",
    "\n",
    "This is the basic structure:\n",
    "<br><br>\n",
    "\n",
    "<font size=\"4\">\n",
    "def name_function<font color='green'>( parameter1, parameter2 )</font>: <br> <br>\n",
    "&nbsp;&nbsp;&nbsp;&nbsp;Code<br><br>\n",
    "&nbsp;&nbsp;&nbsp;&nbsp;<font color='green'>return</font> final_output<br>\n",
    "</font>"
   ]
  },
  {
   "cell_type": "code",
   "execution_count": 2,
   "metadata": {},
   "outputs": [],
   "source": [
    "def calculator( x, y ):\n",
    "    \n",
    "    result = x * y\n",
    "    \n",
    "    return result"
   ]
  },
  {
   "cell_type": "code",
   "execution_count": 3,
   "metadata": {},
   "outputs": [
    {
     "data": {
      "text/plain": [
       "28"
      ]
     },
     "execution_count": 3,
     "metadata": {},
     "output_type": "execute_result"
    }
   ],
   "source": [
    "return1 = calculator( 4, 7 )\n",
    "return1"
   ]
  },
  {
   "cell_type": "markdown",
   "metadata": {},
   "source": [
    "### <a id='#5.1.3.'>5.1.3. Function without `return` function </a> \n",
    "When we define a function without the `return` function, the generated function does not return any output."
   ]
  },
  {
   "cell_type": "code",
   "execution_count": 4,
   "metadata": {},
   "outputs": [],
   "source": [
    "def calculator_square( x, y ):\n",
    "    \n",
    "    x2 = x * x\n",
    "    y2 = y * y\n",
    "    \n",
    "    result = x2 * y2   "
   ]
  },
  {
   "cell_type": "code",
   "execution_count": 5,
   "metadata": {},
   "outputs": [],
   "source": [
    "return2 = calculator_square( 4, 7 )\n",
    "return2"
   ]
  },
  {
   "cell_type": "markdown",
   "metadata": {},
   "source": [
    "### <a id='#5.1.5.'>5.1.5. Multiple objects for return </a> \n",
    "The output of a function can have several objects. These objects are stored in a tuple by default."
   ]
  },
  {
   "cell_type": "code",
   "execution_count": 6,
   "metadata": {},
   "outputs": [],
   "source": [
    "def calculator_square( x, y ):\n",
    "    \n",
    "    x2 = x * x\n",
    "    y2 = y * y\n",
    "    \n",
    "    result = x2 * y2   \n",
    "    \n",
    "    return result, x2, y2"
   ]
  },
  {
   "cell_type": "code",
   "execution_count": 7,
   "metadata": {},
   "outputs": [
    {
     "data": {
      "text/plain": [
       "(5184, 64, 81)"
      ]
     },
     "execution_count": 7,
     "metadata": {},
     "output_type": "execute_result"
    }
   ],
   "source": [
    "result4 = calculator_square( 8, 9 )\n",
    "result4"
   ]
  },
  {
   "cell_type": "markdown",
   "metadata": {},
   "source": [
    "We can name the outputs in one line."
   ]
  },
  {
   "cell_type": "code",
   "execution_count": 8,
   "metadata": {},
   "outputs": [],
   "source": [
    "result5, x1_2, x2_2 = calculator_square( 8, 9 )"
   ]
  },
  {
   "cell_type": "code",
   "execution_count": 9,
   "metadata": {},
   "outputs": [
    {
     "data": {
      "text/plain": [
       "5184"
      ]
     },
     "execution_count": 9,
     "metadata": {},
     "output_type": "execute_result"
    }
   ],
   "source": [
    "result5"
   ]
  },
  {
   "cell_type": "code",
   "execution_count": 10,
   "metadata": {},
   "outputs": [
    {
     "data": {
      "text/plain": [
       "64"
      ]
     },
     "execution_count": 10,
     "metadata": {},
     "output_type": "execute_result"
    }
   ],
   "source": [
    "x1_2"
   ]
  },
  {
   "cell_type": "code",
   "execution_count": 11,
   "metadata": {},
   "outputs": [
    {
     "data": {
      "text/plain": [
       "81"
      ]
     },
     "execution_count": 11,
     "metadata": {},
     "output_type": "execute_result"
    }
   ],
   "source": [
    "x2_2"
   ]
  },
  {
   "cell_type": "markdown",
   "metadata": {},
   "source": [
    "### <a id='#5.1.5.'>5.1.5. If condition with return </a>"
   ]
  },
  {
   "cell_type": "code",
   "execution_count": 12,
   "metadata": {},
   "outputs": [],
   "source": [
    "def calculator_square( x, y ):\n",
    "    \n",
    "    x2 = x * x\n",
    "    y2 = y * y\n",
    "    \n",
    "    result = x2 * y2   \n",
    "    \n",
    "    if ( 200 >= result ):\n",
    "        return result, x2, y2\n",
    "    \n",
    "    elif ( 500 >= result > 200 ):\n",
    "        print( \"Large number. Get only the result variable\")\n",
    "        return result\n",
    "    else:\n",
    "        print( \"Too large number. Do not return variables!\")"
   ]
  },
  {
   "cell_type": "code",
   "execution_count": 13,
   "metadata": {},
   "outputs": [
    {
     "data": {
      "text/plain": [
       "(16, 4, 4)"
      ]
     },
     "execution_count": 13,
     "metadata": {},
     "output_type": "execute_result"
    }
   ],
   "source": [
    "calculator_square( 2, 2 )"
   ]
  },
  {
   "cell_type": "code",
   "execution_count": 14,
   "metadata": {},
   "outputs": [
    {
     "name": "stdout",
     "output_type": "stream",
     "text": [
      "Large number. Get only the result variable\n"
     ]
    },
    {
     "data": {
      "text/plain": [
       "256"
      ]
     },
     "execution_count": 14,
     "metadata": {},
     "output_type": "execute_result"
    }
   ],
   "source": [
    "calculator_square( 8, 2 )"
   ]
  },
  {
   "cell_type": "code",
   "execution_count": 15,
   "metadata": {},
   "outputs": [
    {
     "name": "stdout",
     "output_type": "stream",
     "text": [
      "Too large number. Do not return variables!\n"
     ]
    }
   ],
   "source": [
    "calculator_square( 8, 10 )"
   ]
  },
  {
   "cell_type": "markdown",
   "metadata": {},
   "source": [
    "### <a id='#5.1.6.'>5.1.6. Default values to parameters </a> \n",
    "We can define default values to parameters."
   ]
  },
  {
   "cell_type": "code",
   "execution_count": 16,
   "metadata": {},
   "outputs": [],
   "source": [
    "def calculator_base_5( x, y = 5 ):\n",
    "    \n",
    "    result = x * y\n",
    "    \n",
    "    return result"
   ]
  },
  {
   "cell_type": "code",
   "execution_count": 17,
   "metadata": {},
   "outputs": [
    {
     "data": {
      "text/plain": [
       "35"
      ]
     },
     "execution_count": 17,
     "metadata": {},
     "output_type": "execute_result"
    }
   ],
   "source": [
    "result3 = calculator_base_5( 7 )\n",
    "result3"
   ]
  },
  {
   "cell_type": "markdown",
   "metadata": {},
   "source": [
    "### <a id='#5.1.7.'>5.1.7. Specify the type of a parameter and the type of the return type of a function </a> \n",
    "\n",
    "It is important to note that Python won't raise a TypeError if you pass a float into x, the reason for this is one of the main points in Python's design philosophy: \"We're all consenting adults here\", which means you are expected to be aware of what you can pass to a function and what you can't. If you really want to write code that throws TypeErrors you can use the isinstance function to check that the passed argument is of the proper type or a subclass of it like this:"
   ]
  },
  {
   "cell_type": "code",
   "execution_count": 18,
   "metadata": {},
   "outputs": [],
   "source": [
    "def calculator_base_5( x : int, y : float ) -> float:\n",
    "    \n",
    "    result = x * y\n",
    "    \n",
    "    \n",
    "    return result"
   ]
  },
  {
   "cell_type": "code",
   "execution_count": 19,
   "metadata": {},
   "outputs": [
    {
     "data": {
      "text/plain": [
       "13.5"
      ]
     },
     "execution_count": 19,
     "metadata": {},
     "output_type": "execute_result"
    }
   ],
   "source": [
    "calculator_base_5( 4.5, 3 )"
   ]
  },
  {
   "cell_type": "code",
   "execution_count": 20,
   "metadata": {},
   "outputs": [],
   "source": [
    "def calculator_base_5( x : int, y : float ) -> float:\n",
    "    \n",
    "    if not isinstance( x , int ):\n",
    "        raise TypeError( \"X variable is not int type.\")\n",
    "        \n",
    "    if not isinstance( y, float ):\n",
    "        raise TypeError( \"Y variable is not float type.\")\n",
    "\n",
    "    result = x * y\n",
    "    \n",
    "    \n",
    "    return result"
   ]
  },
  {
   "cell_type": "code",
   "execution_count": 21,
   "metadata": {},
   "outputs": [
    {
     "ename": "TypeError",
     "evalue": "X variable is not int type.",
     "output_type": "error",
     "traceback": [
      "\u001b[1;31m---------------------------------------------------------------------------\u001b[0m",
      "\u001b[1;31mTypeError\u001b[0m                                 Traceback (most recent call last)",
      "\u001b[1;32m<ipython-input-21-65af38d2257e>\u001b[0m in \u001b[0;36m<module>\u001b[1;34m\u001b[0m\n\u001b[1;32m----> 1\u001b[1;33m \u001b[0mcalculator_base_5\u001b[0m\u001b[1;33m(\u001b[0m \u001b[1;36m4.5\u001b[0m\u001b[1;33m,\u001b[0m \u001b[1;36m3\u001b[0m\u001b[1;33m)\u001b[0m\u001b[1;33m\u001b[0m\u001b[1;33m\u001b[0m\u001b[0m\n\u001b[0m",
      "\u001b[1;32m<ipython-input-20-34469a74ff9c>\u001b[0m in \u001b[0;36mcalculator_base_5\u001b[1;34m(x, y)\u001b[0m\n\u001b[0;32m      2\u001b[0m \u001b[1;33m\u001b[0m\u001b[0m\n\u001b[0;32m      3\u001b[0m     \u001b[1;32mif\u001b[0m \u001b[1;32mnot\u001b[0m \u001b[0misinstance\u001b[0m\u001b[1;33m(\u001b[0m \u001b[0mx\u001b[0m \u001b[1;33m,\u001b[0m \u001b[0mint\u001b[0m \u001b[1;33m)\u001b[0m\u001b[1;33m:\u001b[0m\u001b[1;33m\u001b[0m\u001b[1;33m\u001b[0m\u001b[0m\n\u001b[1;32m----> 4\u001b[1;33m         \u001b[1;32mraise\u001b[0m \u001b[0mTypeError\u001b[0m\u001b[1;33m(\u001b[0m \u001b[1;34m\"X variable is not int type.\"\u001b[0m\u001b[1;33m)\u001b[0m\u001b[1;33m\u001b[0m\u001b[1;33m\u001b[0m\u001b[0m\n\u001b[0m\u001b[0;32m      5\u001b[0m \u001b[1;33m\u001b[0m\u001b[0m\n\u001b[0;32m      6\u001b[0m     \u001b[1;32mif\u001b[0m \u001b[1;32mnot\u001b[0m \u001b[0misinstance\u001b[0m\u001b[1;33m(\u001b[0m \u001b[0my\u001b[0m\u001b[1;33m,\u001b[0m \u001b[0mfloat\u001b[0m \u001b[1;33m)\u001b[0m\u001b[1;33m:\u001b[0m\u001b[1;33m\u001b[0m\u001b[1;33m\u001b[0m\u001b[0m\n",
      "\u001b[1;31mTypeError\u001b[0m: X variable is not int type."
     ]
    }
   ],
   "source": [
    "calculator_base_5( 4.5, 3)"
   ]
  },
  {
   "cell_type": "code",
   "execution_count": null,
   "metadata": {},
   "outputs": [],
   "source": [
    "calculator_base_5( 4, 3 )"
   ]
  },
  {
   "cell_type": "code",
   "execution_count": null,
   "metadata": {},
   "outputs": [],
   "source": [
    "calculator_base_5( 4, 3.8 )"
   ]
  },
  {
   "cell_type": "markdown",
   "metadata": {},
   "source": [
    "### <a id='#5.1.8.'>5.1.8. Local variables VS Global variables </a> \n",
    "\n",
    "|Variables|Definition|\n",
    "|---|---|\n",
    "|Global Variables| Variables declared outside a function.|\n",
    "|Local Variables | Variables declared inside a function.|\n",
    "\n",
    "The parameters and the variables created inside a function are local variables. They take values when the function is executed; however, they do not exist outside the function since they belong to a different namespace. A namespace is a system that has a unique name for every object in Python. When a Python function is called, a new namespace is created for that function, one that is distinct from all other namespaces that already exist. That is the reason we can use various functions with parameters and variables with the same name. Additionally, it explains why the variables generated inside a function do not exist outside the defined function namespace."
   ]
  },
  {
   "cell_type": "markdown",
   "metadata": {},
   "source": [
    "#### Example"
   ]
  },
  {
   "cell_type": "code",
   "execution_count": null,
   "metadata": {},
   "outputs": [],
   "source": [
    "def lower_case( string1  ):\n",
    "    str_result = string1.lower()\n",
    "    \n",
    "    return str_result"
   ]
  },
  {
   "cell_type": "code",
   "execution_count": null,
   "metadata": {},
   "outputs": [],
   "source": [
    "result2 = lower_case( \"DIPLOMA\")\n",
    "result2"
   ]
  },
  {
   "cell_type": "markdown",
   "metadata": {},
   "source": [
    "Now, we try to call the variable `str_result`."
   ]
  },
  {
   "cell_type": "code",
   "execution_count": null,
   "metadata": {},
   "outputs": [],
   "source": [
    "str_result"
   ]
  },
  {
   "cell_type": "markdown",
   "metadata": {},
   "source": [
    "We can see that `str_result` is not defined. It does not exist in the main space. It was defined in the namespace of **lower_case**. In concluion, `str_result` is a local variable. <br>\n",
    "`result2` is a global variable."
   ]
  },
  {
   "cell_type": "markdown",
   "metadata": {},
   "source": [
    "### <a id='#5.1.9.'>5.1.9. Args </a> \n",
    "\n",
    "The special syntax **\\*args** in function definitions in python is used to pass a variable number of arguments to a function. The object **\\*args** is a **tuple** that contains all the arguments. When you build your code, you should consider **\\*args** as a **tuple**."
   ]
  },
  {
   "cell_type": "code",
   "execution_count": null,
   "metadata": {},
   "outputs": [],
   "source": [
    "def calculator( *args ):\n",
    "    \n",
    "    print( f\"args is a {type( args )}\" )\n",
    "    # Get the first value\n",
    "    result = args[ 0 ]\n",
    "    \n",
    "    # Keep the rest of values\n",
    "    args1 = args[ 1: ]\n",
    "    \n",
    "    # multiply all elements\n",
    "    for element in args1:\n",
    "        result = result * element\n",
    "    \n",
    "    return result"
   ]
  },
  {
   "cell_type": "markdown",
   "metadata": {},
   "source": [
    "In this example, the values `8, 9, 50 and 40` are storing in a list."
   ]
  },
  {
   "cell_type": "code",
   "execution_count": null,
   "metadata": {},
   "outputs": [],
   "source": [
    "calculator( 8, 9, 50, 40 )"
   ]
  },
  {
   "cell_type": "markdown",
   "metadata": {},
   "source": [
    "We can use **\\*args** with a different name (e.g., **\\*list_vars** ). We should keep the asterisk (**\\***)."
   ]
  },
  {
   "cell_type": "code",
   "execution_count": null,
   "metadata": {},
   "outputs": [],
   "source": [
    "def calculator( *list_vars ):\n",
    "    \n",
    "    print( f\"args is a { type( list_vars ) }\" )\n",
    "    # Get the first value\n",
    "    result = list_vars[ 0 ]\n",
    "    \n",
    "    # Keep the rest of values\n",
    "    list_vars1 = list_vars[ 1: ]\n",
    "    \n",
    "    # multiply all elements\n",
    "    for element in list_vars1:\n",
    "        result = result * element\n",
    "    \n",
    "    return result"
   ]
  },
  {
   "cell_type": "code",
   "execution_count": null,
   "metadata": {},
   "outputs": [],
   "source": [
    "calculator( 8, 9, 50, 40 )"
   ]
  },
  {
   "cell_type": "markdown",
   "metadata": {},
   "source": [
    "### <a id='#5.1.10.'>5.1.10. Kwargs </a> \n",
    "\n",
    "The special syntax **\\*kwargs** in function definitions in python is used to pass a keyworded, variable-length argument list. We use the name kwargs with the double star. The reason is because the double star allows us to pass through keyword arguments (and any number of them)."
   ]
  },
  {
   "cell_type": "code",
   "execution_count": null,
   "metadata": {},
   "outputs": [],
   "source": [
    "def calculator( *list_vars, **kwargs):\n",
    "    \n",
    "    print( type( list_vars ) )\n",
    "    print( type( kwargs ) )\n",
    "    \n",
    "    if ( kwargs[ 'function' ] == \"addition\" ) :\n",
    "        \n",
    "        # Get the first value\n",
    "        result = sum( list_vars )\n",
    "    \n",
    "    elif ( kwargs[ 'function' ] == \"multiplication\" ) :\n",
    "\n",
    "        # Get the first value\n",
    "        result = list_vars[ 0 ]\n",
    "\n",
    "        # Keep the rest of values\n",
    "        list_vars2 = list_vars[ 1: ]\n",
    "\n",
    "        # multiply all elements\n",
    "        for element in list_vars2:\n",
    "            result = result * element\n",
    "    else:\n",
    "        raise ValueError( f\"The function argument {kwargs[ 'function' ]} is not supported.\" )\n",
    "\n",
    "    return result"
   ]
  },
  {
   "cell_type": "code",
   "execution_count": null,
   "metadata": {},
   "outputs": [],
   "source": [
    "calculator( 4, 5, 6, 7, 8, function = \"multiplication\" )"
   ]
  },
  {
   "cell_type": "code",
   "execution_count": null,
   "metadata": {
    "scrolled": false
   },
   "outputs": [],
   "source": [
    "calculator( 4, 5, 6, 7, 8, function = \"division\" )"
   ]
  },
  {
   "cell_type": "markdown",
   "metadata": {},
   "source": [
    "## Excersise\n",
    "#### Importing a Dictionary"
   ]
  },
  {
   "cell_type": "markdown",
   "metadata": {},
   "source": [
    "The `places_result` dictionary stores information from a Google API request that aims to geolocate all the National Identity Management Commission establishments in Nigeria. We want to store the results in a Pandas DataFrame. We want to keep the name of the establishment and its coordiantes."
   ]
  },
  {
   "cell_type": "code",
   "execution_count": null,
   "metadata": {},
   "outputs": [],
   "source": [
    "dictionary_places = open( r\"..\\_data\\places_result\", \"rb\")\n",
    "places_result = pickle.load( dictionary_places )"
   ]
  },
  {
   "cell_type": "code",
   "execution_count": null,
   "metadata": {},
   "outputs": [],
   "source": [
    "# It is a dictionary\n",
    "type( places_result )"
   ]
  },
  {
   "cell_type": "code",
   "execution_count": null,
   "metadata": {},
   "outputs": [],
   "source": [
    "# See all the establishments\n",
    "\n",
    "i = 0\n",
    "while True:\n",
    "    try:\n",
    "        i = i + 1\n",
    "        print( places_result['results'][i]['name'] )\n",
    "    except:\n",
    "        break"
   ]
  },
  {
   "cell_type": "code",
   "execution_count": null,
   "metadata": {},
   "outputs": [],
   "source": [
    "# We want to iterate over all the results to get the location of every point\n",
    "places_result['results'][0]['geometry']['location']"
   ]
  },
  {
   "cell_type": "markdown",
   "metadata": {},
   "source": [
    "`places_result` is a nested dictionary. It is composed of a list, dictionary, and a dictionary."
   ]
  },
  {
   "cell_type": "markdown",
   "metadata": {},
   "source": [
    "First, we are going to do it using a for loop. We are not going to use a function. After we get our expected results, we will define a function."
   ]
  },
  {
   "cell_type": "markdown",
   "metadata": {},
   "source": [
    "##### We can do it lists"
   ]
  },
  {
   "cell_type": "code",
   "execution_count": null,
   "metadata": {},
   "outputs": [],
   "source": [
    "from tqdm import tqdm"
   ]
  },
  {
   "cell_type": "code",
   "execution_count": null,
   "metadata": {},
   "outputs": [],
   "source": [
    "# Lists\n",
    "latitudes = []\n",
    "longitudes = []\n",
    "institutions = []\n",
    "\n",
    "\n",
    "# define all the results\n",
    "results = places_result[ 'results' ]\n",
    "# loop para guardar cada uno de los elementos\n",
    "for row in tqdm( range( 0 , len( results ) ) ):\n",
    "    \n",
    "    # latitude\n",
    "    lat = results[ row ]['geometry']['location']['lat']\n",
    "    \n",
    "    # Longitude\n",
    "    lng = results[ row ]['geometry']['location']['lng']\n",
    "    \n",
    "    # nombre de la institution\n",
    "    institution = results[ row ]['name']\n",
    "    \n",
    "    # Save results\n",
    "    latitudes.append( lat )\n",
    "    longitudes.append( lng )\n",
    "    institutions.append( institution )\n",
    "    \n",
    "# Diccionario\n",
    "final_result = { 'Institution': institutes, 'Latitud' : latitudes, 'Longitud' : longitudes }\n",
    "# Dataframe\n",
    "df_result = pd.DataFrame( final_result )\n",
    "df_result"
   ]
  },
  {
   "cell_type": "markdown",
   "metadata": {},
   "source": [
    "##### We can do it using iteration over rows of a DataFrame"
   ]
  },
  {
   "cell_type": "code",
   "execution_count": null,
   "metadata": {},
   "outputs": [],
   "source": [
    "df2 = pd.DataFrame( columns = ['Institution','Latitude','Longitud'] )\n",
    "\n",
    "results = places_result['results']\n",
    "\n",
    "for fila in tqdm(range( 0 , len( results ) )):\n",
    "    \n",
    "    df2.loc[fila] = [results[ fila ]['name'], \\\n",
    "                       results[ fila ]['geometry']['location']['lat'], \\\n",
    "                       results[ fila ]['geometry']['location']['lng']]\n",
    "    \n",
    "df2"
   ]
  },
  {
   "cell_type": "code",
   "execution_count": null,
   "metadata": {},
   "outputs": [],
   "source": [
    "def dict_output( dictionary , output = 'tuples'):\n",
    "    \n",
    "    # key results\n",
    "    results = dictionary['results']\n",
    "    \n",
    "    # Lists\n",
    "    latitudes = []\n",
    "    longitudes = []\n",
    "    inst = []\n",
    "    \n",
    "    # iterate over values and store in lists\n",
    "    # we are going to use lists apporach\n",
    "    for fila in range( 0 , len( results ) ):\n",
    "        # latitude\n",
    "        lat = results[ fila ]['geometry']['location']['lat']\n",
    "\n",
    "        # Longitude\n",
    "        lng = results[ fila ]['geometry']['location']['lng']\n",
    "\n",
    "        # nombre de la institucion\n",
    "        institucion = results[ fila ]['name']\n",
    "\n",
    "        # Save results\n",
    "        latitudes.append( lat )\n",
    "        longitudes.append( lng )\n",
    "        inst.append( institucion )\n",
    "    \n",
    "    # Store all values in \n",
    "    # dictionary\n",
    "    results_dict = { 'Instituciones': instituciones, 'Latitud' : latitudes, 'Longitud' : longitudes }\n",
    "    \n",
    "    # pandas\n",
    "    results_pd = pd.DataFrame( results_dict )\n",
    "    \n",
    "    # tuple\n",
    "    results_tuple = ( latitudes , longitudes , inst )\n",
    "    \n",
    "    # We can use return with if condition\n",
    "    if output == 'dataframe':\n",
    "        return results_pd\n",
    "    \n",
    "    elif output == 'dictionary':\n",
    "        return results_dict\n",
    "    \n",
    "    elif output == 'tuple':\n",
    "        return results_tuple\n",
    "    \n",
    "    else:\n",
    "        raise Exception( f'''The output value ({output}) is wrong. \\nYou can only use `tuple`, `dataframe`, or `dictionary` as argument variables.''' )"
   ]
  },
  {
   "cell_type": "code",
   "execution_count": null,
   "metadata": {},
   "outputs": [],
   "source": [
    "dict_output( places_result, output = \"tuple\" )"
   ]
  },
  {
   "cell_type": "code",
   "execution_count": null,
   "metadata": {},
   "outputs": [],
   "source": [
    "dict_output( places_result, output = \"dataframe\" )"
   ]
  },
  {
   "cell_type": "code",
   "execution_count": null,
   "metadata": {},
   "outputs": [],
   "source": [
    "dict_output( places_result, output = \"list\" )"
   ]
  },
  {
   "cell_type": "markdown",
   "metadata": {},
   "source": [
    "### <a id='#5.2.'>5.2. Class </a> \n",
    "\n",
    "A class is a user-defined blueprint or prototype from which objects are created. Classes provide a means of bundling data and functionality together. Creating a new class creates a new type of object, allowing new instances of that type to be made.\n",
    "\n",
    "<img src=\"../_images\\classes.png\">"
   ]
  },
  {
   "cell_type": "markdown",
   "metadata": {},
   "source": [
    "### <a id='#5.2.1.'>5.2.1. The Importance of Python Classes </a> \n",
    "\n",
    "Classes are a way to organize your code into generic, reusable peices. At their best they are generic blueprints for things that will be used over and over again with little modification. The original concept was inspired by independent biological systems or organism unique from other organisms by the set or collection of features (attributes) and abilities (methods).\n",
    "\n",
    "Functions are great to use when data is central to the work being done. Classes are great when you need to represent a collection of attributes and methods that will be used over and over again in other places.\n",
    "\n",
    "Generally if you find your self writing functions inside of functions you should consider writing a class instead. If you only have one function in a class then stick with just writing a function.\n",
    "\n",
    "\n",
    "\n",
    "- Classes provide an easy way of keeping the data members and methods together in one place which helps in keeping the program more organized.\n",
    "- Using classes also provides another functionality of this object-oriented programming paradigm, that is, inheritance.\n",
    "- Classes also help in overriding any standard operator.\n",
    "- Using classes provides the ability to reuse the code which makes the program more efficient.\n",
    "- Grouping related functions and keeping them in one place (inside a class) provides a clean structure to the code which increases the readability of the program."
   ]
  },
  {
   "cell_type": "markdown",
   "metadata": {},
   "source": [
    "###  <a id='#5.2.2.'> 5.2.2. Defining a class </a> \n",
    "it is considered to be a good practice to include a brief description about the class to increase the readability and understandability of the code."
   ]
  },
  {
   "cell_type": "markdown",
   "metadata": {},
   "source": [
    "<font size=\"4\">\n",
    "<font color='green'>class</font> class_name:<br> <br>\n",
    "&nbsp;&nbsp;&nbsp;&nbsp;    \"\"\"Description\"\"\" <br><br>\n",
    "&nbsp;&nbsp;&nbsp;&nbsp;<font color='red'>def __init__</font><font color  = 'blue'>( <font color='red'>self</font>, parameter1, parameter2 )</font>:<br><br>\n",
    "</font>"
   ]
  },
  {
   "cell_type": "markdown",
   "metadata": {},
   "source": [
    "### <a id='#5.2.3.'> 5.2.3. Attributes </a> \n",
    "A value associated with an object which is referenced by name using dotted expressions. For example, `np.size`."
   ]
  },
  {
   "cell_type": "code",
   "execution_count": null,
   "metadata": {},
   "outputs": [],
   "source": [
    "A = np.arange( 8, 25 )\n",
    "# this an attribute\n",
    "A.size"
   ]
  },
  {
   "cell_type": "markdown",
   "metadata": {},
   "source": [
    "### <a id='#5.2.5.'> 5.2.5. Method </a>\n",
    "A function which is defined inside a class body. If called as an attribute of an instance of that class, the method will get the instance object as its first argument (which is usually called self). See function and nested scope."
   ]
  },
  {
   "cell_type": "code",
   "execution_count": null,
   "metadata": {},
   "outputs": [],
   "source": [
    "A = np.arange( 8, 25 )\n",
    "# this a method\n",
    "A.reshape( 1, -1 )"
   ]
  },
  {
   "cell_type": "markdown",
   "metadata": {},
   "source": [
    "|Name| Definition|\n",
    "|---|---|\n",
    "|attribute|A variable stored in an instance or class.|\n",
    "|method|A function stored in an instance or class.|"
   ]
  },
  {
   "cell_type": "markdown",
   "metadata": {},
   "source": [
    "###  <a id='#5.2.6.'> 5.2.6. \\_\\_init\\_\\_() </a>\n",
    "\n",
    "In python classes, “__init__” method is reserved. It is automatically called when you create an object using a class and is used to initialize the variables of the class. It is equivalent to a constructor.\n",
    "\n",
    "- Like any other method, init method starts with the keyword **“def”**\n",
    "- **“self”** is the first parameter in this method just like any other method although in case of init, **“self”** refers to a newly created object unlike other methods where it refers to the current object or instance associated with that particular method.\n",
    "- Additional parameters can be added"
   ]
  },
  {
   "cell_type": "markdown",
   "metadata": {},
   "source": [
    "### <a id='#5.2.7.'> 5.2.7. Self</a>\n",
    "self represents the instance of the class. By using the **“self”** keyword we build attributes and methods for the class in python. It binds the attributes with the given arguments."
   ]
  },
  {
   "cell_type": "markdown",
   "metadata": {},
   "source": [
    "In the example, **MyFirstClass** I use self to define attributes and methods. "
   ]
  },
  {
   "cell_type": "code",
   "execution_count": null,
   "metadata": {},
   "outputs": [],
   "source": [
    "class MyFirstClass:\n",
    "    \n",
    "    def __init__( self, name, age ):\n",
    "        self.name = name\n",
    "        self.age = age\n",
    "    \n",
    "    # best way to define a method\n",
    "    def print_name_1( self ):\n",
    "        print( f'I am { self.name }.' )\n",
    "    \n",
    "    # wrong way to define a method \n",
    "    def print_name_2():\n",
    "        print( f'This is my { name }.' )\n",
    "    \n",
    "    \n",
    "    # the worst way to call a parameter\n",
    "    # we need to define them as attributes\n",
    "    def print_name_3( self ):\n",
    "        print( f'This is my {name}.' )\n",
    "    \n"
   ]
  },
  {
   "cell_type": "markdown",
   "metadata": {},
   "source": [
    "When we create an object using a class, we have an instance of this class."
   ]
  },
  {
   "cell_type": "code",
   "execution_count": null,
   "metadata": {},
   "outputs": [],
   "source": [
    "student1 = MyFirstClass( name = \"Jose\" , age = 22 )"
   ]
  },
  {
   "cell_type": "markdown",
   "metadata": {},
   "source": [
    "Attributes"
   ]
  },
  {
   "cell_type": "code",
   "execution_count": null,
   "metadata": {},
   "outputs": [],
   "source": [
    "student1.age"
   ]
  },
  {
   "cell_type": "code",
   "execution_count": null,
   "metadata": {},
   "outputs": [],
   "source": [
    "student1.name"
   ]
  },
  {
   "cell_type": "markdown",
   "metadata": {},
   "source": [
    "Methods"
   ]
  },
  {
   "cell_type": "code",
   "execution_count": null,
   "metadata": {},
   "outputs": [],
   "source": [
    "# Calling like an attribute\n",
    "student1.print_name_1"
   ]
  },
  {
   "cell_type": "code",
   "execution_count": null,
   "metadata": {},
   "outputs": [],
   "source": [
    "# Calling like as a method\n",
    "student1.print_name_1()"
   ]
  },
  {
   "cell_type": "markdown",
   "metadata": {},
   "source": [
    "When we do not use the **self** keyword, the class do not recognize `print_name_2` function as a method. "
   ]
  },
  {
   "cell_type": "code",
   "execution_count": null,
   "metadata": {},
   "outputs": [],
   "source": [
    "student1.print_name_2()"
   ]
  },
  {
   "cell_type": "markdown",
   "metadata": {},
   "source": [
    "When we do not use the **self** keyword, the class does not recognize `name` variable. We need to define it as an `attribute`. Classes are not the same as functions. In functions, the parameters are identified in the namespace, but in classes, they do not."
   ]
  },
  {
   "cell_type": "code",
   "execution_count": null,
   "metadata": {},
   "outputs": [],
   "source": [
    "student1.print_name_3()"
   ]
  },
  {
   "cell_type": "markdown",
   "metadata": {},
   "source": [
    "# <a id='#5.3.'>5.3. References </a>  \n",
    "\n",
    "- [Functions](https://www.datacamp.com/community/tutorials/functions-python-tutorial?utm_source=adwords_ppc&utm_medium=cpc&utm_campaignid=1455363063&utm_adgroupid=65083631748&utm_device=c&utm_keyword=&utm_matchtype=&utm_network=g&utm_adpostion=&utm_creative=332602034358&utm_targetid=dsa-473406571355&utm_loc_interest_ms=&utm_loc_physical_ms=9060932&gclid=CjwKCAiAqIKNBhAIEiwAu_ZLDp9lkv0t5drR4g_hjgXp0DBU3XoRLPEeQT9wGMhCyiZd09kjsAXKaRoCFmUQAvD_BwE)\n",
    "- [Functions](https://www.w3schools.com/python/python_functions.asp)\n",
    "- [Args and Kwargs](https://book.pythontips.com/en/latest/args_and_kwargs.html)\n",
    "\n",
    "- [Clases](https://www.geeksforgeeks.org/namespaces-and-scope-in-python/#:~:text=A%20namespace%20is%20a%20system,form%20of%20a%20Python%20dictionary.&text=Its%20Name%20(which%20means%20name,talks%20something%20related%20to%20scope)\n",
    "\n",
    "- [Clases](https://www.geeksforgeeks.org/python-classes-and-objects/)\n",
    "\n",
    "- [Clases Advantages](https://intellipaat.com/blog/tutorial/python-tutorial/python-classes-and-objects/#_Advantages_of_class)\n",
    "\n",
    "- [Self](https://www.geeksforgeeks.org/self-in-python-class/)\n",
    "\n",
    "- [FU](https://realpython.com/defining-your-own-python-function/#functions-in-python)\n",
    "\n",
    "- https://stackoverflow.com/questions/46312470/difference-between-methods-and-attributes-in-python\n",
    "\n",
    "- https://stackoverflow.com/questions/2489669/how-do-python-functions-handle-the-types-of-parameters-that-you-pass-in"
   ]
  }
 ],
 "metadata": {
  "hide_input": false,
  "kernelspec": {
   "display_name": "Python 3",
   "language": "python",
   "name": "python3"
  },
  "language_info": {
   "codemirror_mode": {
    "name": "ipython",
    "version": 3
   },
   "file_extension": ".py",
   "mimetype": "text/x-python",
   "name": "python",
   "nbconvert_exporter": "python",
   "pygments_lexer": "ipython3",
   "version": "3.8.5"
  }
 },
 "nbformat": 4,
 "nbformat_minor": 4
}
