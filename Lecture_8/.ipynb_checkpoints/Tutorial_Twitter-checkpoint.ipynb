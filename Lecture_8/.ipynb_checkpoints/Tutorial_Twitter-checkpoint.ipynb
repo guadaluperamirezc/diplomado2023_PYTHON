{
 "cells": [
  {
   "cell_type": "markdown",
   "metadata": {},
   "source": [
    "# 8.2 Twitter API"
   ]
  },
  {
   "cell_type": "markdown",
   "metadata": {},
   "source": [
    "- <a href='#8.1.'>8.1. Generate Twitter API Key</a>\n",
    "- <a href='#8.2.'>8.2. Tweepy </a> \n",
    "     - <a href='#8.2.1.'>8.2.1. Get tweets in a date range </a> \n",
    "- <a href='#8.3.'>8.3. Request tweet </a>  \n",
    "     - <a href='#8.3.1.'>8.3.1. Getting ID of username - jmwooldridge</a> \n",
    "     - <a href='#8.3.2.'>Getting Tweets Timeline - jmwooldridge</a> \n",
    "- <a href='#8.4.'>8.4. References</a>  "
   ]
  },
  {
   "cell_type": "code",
   "execution_count": 1,
   "metadata": {},
   "outputs": [],
   "source": [
    "# For sending GET requests from the API\n",
    "import requests\n",
    "# For saving access tokens and for file management when creating and adding to the dataset\n",
    "import os\n",
    "# For dealing with json responses we receive from the API\n",
    "import json\n",
    "# For displaying the data after\n",
    "import pandas as pd\n",
    "# For saving the response data in CSV format\n",
    "import csv\n",
    "# For parsing the dates received from twitter in readable formats\n",
    "import datetime\n",
    "import dateutil.parser\n",
    "import unicodedata\n",
    "#To add wait time between requests\n",
    "import time"
   ]
  },
  {
   "cell_type": "markdown",
   "metadata": {},
   "source": [
    "## <a id='8.1.'>8.1. Generate Twitter API Key</a>"
   ]
  },
  {
   "cell_type": "markdown",
   "metadata": {},
   "source": [
    "All you need to do is create a project and connect an App through the developer portal and we are set to go!\n",
    "\n",
    "1. Go to the developer [portal dashboard](https://developer.twitter.com/en/portal/dashboard).\n",
    "2. Sign in with your developer account.\n",
    "3. Create a new project, give it a name, a use-case based on the goal you want to achieve, and a description.\n",
    "<img src=\"../_images/1_twitter.png\" />\n",
    "\n",
    "4. Assuming this is your first time, choose ‘create a new App instead’ and give your App a name in order to create a new App.\n",
    "<img src=\"../_images/2_twitter.png\" />\n",
    "\n",
    "5. If everything is successful, you should be able to see this page containing your keys and tokens, we will use one of these to access the API.\n",
    "<img src=\"../_images/3_twitter.png\" />"
   ]
  },
  {
   "cell_type": "markdown",
   "metadata": {},
   "source": [
    "### <a id='8.2.'>8.2. Tweepy </a> "
   ]
  },
  {
   "cell_type": "code",
   "execution_count": 260,
   "metadata": {},
   "outputs": [],
   "source": [
    "import tweepy\n",
    "consumer_key = \"nAz3CGiRtUnpBTr1VZXJNOKX5\"\n",
    "consumer_secret = \"yP8ddEY5jJmhVotfsif296H4aNrXLlQwwrxGBFrjYVTjad7cmL\"\n",
    "auth = tweepy.OAuthHandler( consumer_key, consumer_secret )\n",
    "\n",
    "access_token = \"1270850339223343105-mkzWYtAxbbeQ0w0LmqhDMJsj8P20FE\"\n",
    "access_token_secret = \"T6Pzkva7TgPYI3JSdgzTreMrdHLqwYZTwVySYS7gdpmuu\"\n",
    "auth.set_access_token( access_token, access_token_secret )\n",
    "\n",
    "api = tweepy.API(auth)"
   ]
  },
  {
   "cell_type": "markdown",
   "metadata": {},
   "source": [
    "Get Timeline of user"
   ]
  },
  {
   "cell_type": "code",
   "execution_count": 261,
   "metadata": {},
   "outputs": [
    {
     "name": "stdout",
     "output_type": "stream",
     "text": [
      "RT @Porkchop_EXP: Become unbullyable.\n",
      "RT @QuasiFinance: Moore's law is too complex to be able for Us to differentiate whether the growth is logistic, exponential or hyperbolic..…\n",
      "Ecosystem orchestrators can create an effective governance model by working through the questions for each of the f… https://t.co/jHJ0ssRLf7\n",
      "RT @ezra_marc: for content creators who are always told no in this world https://t.co/7kS2Yf81am\n",
      "Lies aren't necessarily lies but they are manipulations.\n",
      "\n",
      "Example, Federal Reserve is manipulating outcomes through… https://t.co/UEUcUHeJEl\n",
      "Other times fees would be higher than the regulations allowed for, or fees would be charged for ATM cards when open… https://t.co/574LE4LEEq\n",
      "RT @stelifanie: 1st year PhD student after their first semester: “It was tough, but at least I’m doing what I love.” https://t.co/mgPzUXgVRR\n",
      "RT @JStein_WaPo: The most consequential antipoverty component of Biden's Child Tax Credit -- full benefits to non-earners -- is very cheap…\n",
      "🚨#UnidosPorAmazonas | Te mostramos un resumen del trabajo que #INDECI y el sector Defensa realizan en las zonas afe… https://t.co/dapfXNtOns\n",
      "RT @jmorenocruz: I am very late to this, but @CharlesCMann’s book “the wizard and the prophet” is required reading for everyone concerned w…\n",
      "RT @DrKatLiang: Been thinking about this article all week, today a thought for #womeninSTEM @Momademia - when will it be possible to celebr…\n",
      "Gen Zers relied on buy now-pay later for holiday shopping. It's time to pay up. https://t.co/yIZZbEtokR… https://t.co/TjLfBsBvtc\n",
      "RT @JSEllenberg: Yet another editorial board dumps Elsevier and launches a new open-access journal, this time in combinatorics: https://t.c…\n",
      "problem solved https://t.co/xyf2CGy1q3\n",
      "RT @LongFormMath: If you are trying to teach your students how to use LaTeX, what resources do you share with them?\n",
      "\n",
      "I've heard people reco…\n",
      "RT @blengyelb: „Innovative mergers and acquisitions and the broker regions of European integration” new OA paper with Michele Aquaro and Gi…\n",
      "One of those \"everyone is way more successful than me\" days...\n",
      "(But at least I have a cute puppy keeping me warm!)\n",
      "RT @pakalupapitow: 2019: coughing to hide a fart\n",
      "2021: farting to hide a cough\n",
      "as what i'm sure is a completely unrelated matter i ran out of my regular coffee a couple days ago\n",
      "When we could get information, often it was inconsistent, and even after that the information we were given often d… https://t.co/sjT6UXJYpN\n"
     ]
    }
   ],
   "source": [
    "# Get Timeline\n",
    "public_tweets = api.home_timeline()\n",
    "for tweet in public_tweets:\n",
    "    print( tweet.text )"
   ]
  },
  {
   "cell_type": "markdown",
   "metadata": {},
   "source": [
    "Getting tweets from [Judea Pearl](https://twitter.com/yudapearl)."
   ]
  },
  {
   "cell_type": "code",
   "execution_count": 262,
   "metadata": {},
   "outputs": [],
   "source": [
    "userID = \"yudapearl\""
   ]
  },
  {
   "cell_type": "code",
   "execution_count": 282,
   "metadata": {},
   "outputs": [],
   "source": [
    "# Set uttils\n",
    "auth = tweepy.OAuthHandler(consumer_key, consumer_secret)\n",
    "auth.set_access_token(access_token, access_token_secret)\n",
    "\n",
    "# Set API\n",
    "api = tweepy.API(auth)\n",
    "\n",
    "# Get Tweets\n",
    "tweets_bi = api.user_timeline(screen_name = userID, \n",
    "                           # 200 is the maximum allowed count\n",
    "                           count = 100,\n",
    "                           include_rts = False,\n",
    "                           # Necessary to keep full_text \n",
    "                           # otherwise only the first 140 words are extracted\n",
    "                           tweet_mode = 'extended'\n",
    "                           )"
   ]
  },
  {
   "cell_type": "code",
   "execution_count": 283,
   "metadata": {},
   "outputs": [
    {
     "name": "stdout",
     "output_type": "stream",
     "text": [
      "1471419526973587457\n",
      "2021-12-16 09:58:47\n",
      "Sharing my inspiration for the day: Daniel Pearl Magnet High School production of 2021 World Music Day:\n",
      "Enjoy:\n",
      " https://t.co/zNOP1WR6nP\n"
     ]
    }
   ],
   "source": [
    "print( tweets_bi[0].id )\n",
    "print( tweets_bi[0].created_at )\n",
    "print( tweets_bi[0].full_text )"
   ]
  },
  {
   "cell_type": "code",
   "execution_count": 284,
   "metadata": {},
   "outputs": [
    {
     "name": "stdout",
     "output_type": "stream",
     "text": [
      "ID: 1471419526973587457\n",
      "2021-12-16 09:58:47\n",
      "Sharing my inspiration for the day: Daniel Pearl Magnet High School production of 2021 World Music Day:\n",
      "Enjoy:\n",
      " https://t.co/zNOP1WR6nP\n",
      "\n",
      "\n",
      "ID: 1471414616030781442\n",
      "2021-12-16 09:39:16\n",
      "Some say, and I'm inclined to agree, that recent tweets from the new Bundists (eg @IfNotNowOrg ) are but gasping attempts to rise from the dustbin of history and shake their guilt over betraying their European brethren. Israel's demise would prove them right - so they hope. https://t.co/Mm7VMuReRj\n",
      "\n",
      "\n",
      "ID: 1471345841231171584\n",
      "2021-12-16 05:05:59\n",
      "@JLinAffect Good question.\n",
      "(1) Deep understanding, namely, ability to answer questions from all three rungs of the ladder\n",
      "(2) Social Intelligence, namely, ability to understand (ie, answer such questions about) other agents,\n",
      "\n",
      "\n"
     ]
    }
   ],
   "source": [
    "for info in tweets_bi[:3]:\n",
    "     print(\"ID: {}\".format(info.id))\n",
    "     print(info.created_at)\n",
    "     print(info.full_text)\n",
    "     print(\"\\n\")"
   ]
  },
  {
   "cell_type": "code",
   "execution_count": 292,
   "metadata": {},
   "outputs": [
    {
     "data": {
      "text/plain": [
       "'Sharing my inspiration for the day: Daniel Pearl Magnet High School production of 2021 World Music Day:\\nEnjoy:\\n https://t.co/zNOP1WR6nP'"
      ]
     },
     "execution_count": 292,
     "metadata": {},
     "output_type": "execute_result"
    }
   ],
   "source": [
    "tweets_bi[0].full_text"
   ]
  },
  {
   "cell_type": "code",
   "execution_count": 296,
   "metadata": {},
   "outputs": [
    {
     "data": {
      "text/html": [
       "<div>\n",
       "<style scoped>\n",
       "    .dataframe tbody tr th:only-of-type {\n",
       "        vertical-align: middle;\n",
       "    }\n",
       "\n",
       "    .dataframe tbody tr th {\n",
       "        vertical-align: top;\n",
       "    }\n",
       "\n",
       "    .dataframe thead th {\n",
       "        text-align: right;\n",
       "    }\n",
       "</style>\n",
       "<table border=\"1\" class=\"dataframe\">\n",
       "  <thead>\n",
       "    <tr style=\"text-align: right;\">\n",
       "      <th></th>\n",
       "      <th>id</th>\n",
       "      <th>created_at</th>\n",
       "      <th>favorite_count</th>\n",
       "      <th>retweet_count</th>\n",
       "      <th>text</th>\n",
       "    </tr>\n",
       "  </thead>\n",
       "  <tbody>\n",
       "    <tr>\n",
       "      <th>0</th>\n",
       "      <td>1471419526973587457</td>\n",
       "      <td>2021-12-16 09:58:47</td>\n",
       "      <td>16</td>\n",
       "      <td>1</td>\n",
       "      <td>Sharing my inspiration for the day: Daniel Pea...</td>\n",
       "    </tr>\n",
       "    <tr>\n",
       "      <th>1</th>\n",
       "      <td>1471414616030781442</td>\n",
       "      <td>2021-12-16 09:39:16</td>\n",
       "      <td>9</td>\n",
       "      <td>0</td>\n",
       "      <td>Some say, and I'm inclined to agree, that rece...</td>\n",
       "    </tr>\n",
       "    <tr>\n",
       "      <th>2</th>\n",
       "      <td>1471345841231171584</td>\n",
       "      <td>2021-12-16 05:05:59</td>\n",
       "      <td>5</td>\n",
       "      <td>2</td>\n",
       "      <td>@JLinAffect Good question.\\n(1) Deep understan...</td>\n",
       "    </tr>\n",
       "  </tbody>\n",
       "</table>\n",
       "</div>"
      ],
      "text/plain": [
       "                    id          created_at  favorite_count  retweet_count  \\\n",
       "0  1471419526973587457 2021-12-16 09:58:47              16              1   \n",
       "1  1471414616030781442 2021-12-16 09:39:16               9              0   \n",
       "2  1471345841231171584 2021-12-16 05:05:59               5              2   \n",
       "\n",
       "                                                text  \n",
       "0  Sharing my inspiration for the day: Daniel Pea...  \n",
       "1  Some say, and I'm inclined to agree, that rece...  \n",
       "2  @JLinAffect Good question.\\n(1) Deep understan...  "
      ]
     },
     "execution_count": 296,
     "metadata": {},
     "output_type": "execute_result"
    }
   ],
   "source": [
    "from pandas import DataFrame\n",
    "outtweets = [[tweet.id_str, \n",
    "              tweet.created_at, \n",
    "              tweet.favorite_count, \n",
    "              tweet.retweet_count, \n",
    "              tweet.full_text.encode(\"utf-8\").decode(\"utf-8\")] \n",
    "             for idx,tweet in enumerate(tweets_bi)]\n",
    "df = DataFrame(outtweets,columns=[\"id\",\"created_at\",\"favorite_count\",\"retweet_count\", \"text\"])\n",
    "df.to_csv( f'{userID}_tweets.csv', index = False )\n",
    "df.head(3)"
   ]
  },
  {
   "cell_type": "code",
   "execution_count": 267,
   "metadata": {},
   "outputs": [
    {
     "data": {
      "text/html": [
       "<div>\n",
       "<style scoped>\n",
       "    .dataframe tbody tr th:only-of-type {\n",
       "        vertical-align: middle;\n",
       "    }\n",
       "\n",
       "    .dataframe tbody tr th {\n",
       "        vertical-align: top;\n",
       "    }\n",
       "\n",
       "    .dataframe thead th {\n",
       "        text-align: right;\n",
       "    }\n",
       "</style>\n",
       "<table border=\"1\" class=\"dataframe\">\n",
       "  <thead>\n",
       "    <tr style=\"text-align: right;\">\n",
       "      <th></th>\n",
       "      <th>id</th>\n",
       "      <th>created_at</th>\n",
       "      <th>favorite_count</th>\n",
       "      <th>retweet_count</th>\n",
       "      <th>text</th>\n",
       "    </tr>\n",
       "  </thead>\n",
       "  <tbody>\n",
       "    <tr>\n",
       "      <th>0</th>\n",
       "      <td>1471419526973587457</td>\n",
       "      <td>2021-12-16 09:58:47</td>\n",
       "      <td>16</td>\n",
       "      <td>1</td>\n",
       "      <td>Sharing my inspiration for the day: Daniel Pea...</td>\n",
       "    </tr>\n",
       "    <tr>\n",
       "      <th>1</th>\n",
       "      <td>1471414616030781442</td>\n",
       "      <td>2021-12-16 09:39:16</td>\n",
       "      <td>9</td>\n",
       "      <td>0</td>\n",
       "      <td>Some say, and I'm inclined to agree, that rece...</td>\n",
       "    </tr>\n",
       "    <tr>\n",
       "      <th>2</th>\n",
       "      <td>1471345841231171584</td>\n",
       "      <td>2021-12-16 05:05:59</td>\n",
       "      <td>5</td>\n",
       "      <td>2</td>\n",
       "      <td>@JLinAffect Good question.\\n(1) Deep understan...</td>\n",
       "    </tr>\n",
       "    <tr>\n",
       "      <th>3</th>\n",
       "      <td>1471327991506485250</td>\n",
       "      <td>2021-12-16 03:55:03</td>\n",
       "      <td>7</td>\n",
       "      <td>2</td>\n",
       "      <td>Here is another avoidance statement from USC P...</td>\n",
       "    </tr>\n",
       "    <tr>\n",
       "      <th>4</th>\n",
       "      <td>1471320094693150720</td>\n",
       "      <td>2021-12-16 03:23:41</td>\n",
       "      <td>13</td>\n",
       "      <td>3</td>\n",
       "      <td>The circus at USC continues; its top faculty s...</td>\n",
       "    </tr>\n",
       "    <tr>\n",
       "      <th>...</th>\n",
       "      <td>...</td>\n",
       "      <td>...</td>\n",
       "      <td>...</td>\n",
       "      <td>...</td>\n",
       "      <td>...</td>\n",
       "    </tr>\n",
       "    <tr>\n",
       "      <th>91</th>\n",
       "      <td>1469673546892787712</td>\n",
       "      <td>2021-12-11 14:20:53</td>\n",
       "      <td>31</td>\n",
       "      <td>13</td>\n",
       "      <td>Here is another review of the causal revolutio...</td>\n",
       "    </tr>\n",
       "    <tr>\n",
       "      <th>92</th>\n",
       "      <td>1469650695213125637</td>\n",
       "      <td>2021-12-11 12:50:05</td>\n",
       "      <td>1</td>\n",
       "      <td>0</td>\n",
       "      <td>@RWJE_BA If you write a well-reasoned critique...</td>\n",
       "    </tr>\n",
       "    <tr>\n",
       "      <th>93</th>\n",
       "      <td>1469644423214419968</td>\n",
       "      <td>2021-12-11 12:25:09</td>\n",
       "      <td>23</td>\n",
       "      <td>5</td>\n",
       "      <td>Billoo and @Cair are totally misguided about I...</td>\n",
       "    </tr>\n",
       "    <tr>\n",
       "      <th>94</th>\n",
       "      <td>1469644422480494592</td>\n",
       "      <td>2021-12-11 12:25:09</td>\n",
       "      <td>14</td>\n",
       "      <td>1</td>\n",
       "      <td>Zionists are behind Islamophobia, US police br...</td>\n",
       "    </tr>\n",
       "    <tr>\n",
       "      <th>95</th>\n",
       "      <td>1469637423676092418</td>\n",
       "      <td>2021-12-11 11:57:21</td>\n",
       "      <td>16</td>\n",
       "      <td>2</td>\n",
       "      <td>The relationship between the individual causal...</td>\n",
       "    </tr>\n",
       "  </tbody>\n",
       "</table>\n",
       "<p>96 rows × 5 columns</p>\n",
       "</div>"
      ],
      "text/plain": [
       "                     id          created_at  favorite_count  retweet_count  \\\n",
       "0   1471419526973587457 2021-12-16 09:58:47              16              1   \n",
       "1   1471414616030781442 2021-12-16 09:39:16               9              0   \n",
       "2   1471345841231171584 2021-12-16 05:05:59               5              2   \n",
       "3   1471327991506485250 2021-12-16 03:55:03               7              2   \n",
       "4   1471320094693150720 2021-12-16 03:23:41              13              3   \n",
       "..                  ...                 ...             ...            ...   \n",
       "91  1469673546892787712 2021-12-11 14:20:53              31             13   \n",
       "92  1469650695213125637 2021-12-11 12:50:05               1              0   \n",
       "93  1469644423214419968 2021-12-11 12:25:09              23              5   \n",
       "94  1469644422480494592 2021-12-11 12:25:09              14              1   \n",
       "95  1469637423676092418 2021-12-11 11:57:21              16              2   \n",
       "\n",
       "                                                 text  \n",
       "0   Sharing my inspiration for the day: Daniel Pea...  \n",
       "1   Some say, and I'm inclined to agree, that rece...  \n",
       "2   @JLinAffect Good question.\\n(1) Deep understan...  \n",
       "3   Here is another avoidance statement from USC P...  \n",
       "4   The circus at USC continues; its top faculty s...  \n",
       "..                                                ...  \n",
       "91  Here is another review of the causal revolutio...  \n",
       "92  @RWJE_BA If you write a well-reasoned critique...  \n",
       "93  Billoo and @Cair are totally misguided about I...  \n",
       "94  Zionists are behind Islamophobia, US police br...  \n",
       "95  The relationship between the individual causal...  \n",
       "\n",
       "[96 rows x 5 columns]"
      ]
     },
     "execution_count": 267,
     "metadata": {},
     "output_type": "execute_result"
    }
   ],
   "source": [
    "df"
   ]
  },
  {
   "cell_type": "markdown",
   "metadata": {},
   "source": [
    "## <a id='8.2.1.'>8.2.1. Get tweets in a date range </a> "
   ]
  },
  {
   "cell_type": "code",
   "execution_count": 268,
   "metadata": {},
   "outputs": [],
   "source": [
    "startDate = datetime.datetime(2021, 10, 12, 0, 0, 0)\n",
    "endDate =   datetime.datetime(2021, 10, 30, 0, 0, 0)"
   ]
  },
  {
   "cell_type": "code",
   "execution_count": 309,
   "metadata": {},
   "outputs": [],
   "source": [
    "tweets = []\n",
    "tmpTweets = api.user_timeline(screen_name=userID, \n",
    "                             count=100,\n",
    "                           include_rts = False,\n",
    "                           # Necessary to keep full_text \n",
    "                           # otherwise only the first 140 words are extracted\n",
    "                           tweet_mode = 'extended')"
   ]
  },
  {
   "cell_type": "code",
   "execution_count": 310,
   "metadata": {},
   "outputs": [],
   "source": [
    "for tweet in tmpTweets:\n",
    "#    print(tweet.created_at)\n",
    "    if tweet.created_at < endDate and tweet.created_at > startDate:\n",
    "        tweets.append(tweet)"
   ]
  },
  {
   "cell_type": "code",
   "execution_count": 311,
   "metadata": {},
   "outputs": [],
   "source": [
    "while ( tmpTweets[-1].created_at > startDate):\n",
    "    tmpTweets = api.user_timeline(userID, max_id = tmpTweets[-1].id, tweet_mode = 'extended', include_rts = False, count = 100 )\n",
    "    for tweet in tmpTweets:\n",
    "        if tweet.created_at < endDate and tweet.created_at > startDate:\n",
    "            tweets.append(tweet)"
   ]
  },
  {
   "cell_type": "code",
   "execution_count": 312,
   "metadata": {},
   "outputs": [],
   "source": [
    "outtweets2 = [[tweet1.id_str, \n",
    "              tweet1.created_at, \n",
    "              tweet1.favorite_count, \n",
    "              tweet1.retweet_count, \n",
    "              tweet1.full_text.encode(\"utf-8\").decode(\"utf-8\")] \n",
    "             for idx,tweet1 in enumerate(tweets)]"
   ]
  },
  {
   "cell_type": "code",
   "execution_count": 313,
   "metadata": {},
   "outputs": [],
   "source": [
    "df = DataFrame( outtweets2, columns = [ \"id\",\"created_at\",\"favorite_count\",\"retweet_count\", \"text\" ] )"
   ]
  },
  {
   "cell_type": "code",
   "execution_count": 314,
   "metadata": {},
   "outputs": [
    {
     "data": {
      "text/html": [
       "<div>\n",
       "<style scoped>\n",
       "    .dataframe tbody tr th:only-of-type {\n",
       "        vertical-align: middle;\n",
       "    }\n",
       "\n",
       "    .dataframe tbody tr th {\n",
       "        vertical-align: top;\n",
       "    }\n",
       "\n",
       "    .dataframe thead th {\n",
       "        text-align: right;\n",
       "    }\n",
       "</style>\n",
       "<table border=\"1\" class=\"dataframe\">\n",
       "  <thead>\n",
       "    <tr style=\"text-align: right;\">\n",
       "      <th></th>\n",
       "      <th>id</th>\n",
       "      <th>created_at</th>\n",
       "      <th>favorite_count</th>\n",
       "      <th>retweet_count</th>\n",
       "      <th>text</th>\n",
       "    </tr>\n",
       "  </thead>\n",
       "  <tbody>\n",
       "    <tr>\n",
       "      <th>0</th>\n",
       "      <td>1454082045785694214</td>\n",
       "      <td>2021-10-29 13:45:49</td>\n",
       "      <td>0</td>\n",
       "      <td>0</td>\n",
       "      <td>@AnothrAtheistJu No idea. I was focusing on th...</td>\n",
       "    </tr>\n",
       "    <tr>\n",
       "      <th>1</th>\n",
       "      <td>1454080984660410369</td>\n",
       "      <td>2021-10-29 13:41:36</td>\n",
       "      <td>15</td>\n",
       "      <td>1</td>\n",
       "      <td>Some runners make my heart jump - must share. ...</td>\n",
       "    </tr>\n",
       "    <tr>\n",
       "      <th>2</th>\n",
       "      <td>1454046053582336004</td>\n",
       "      <td>2021-10-29 11:22:48</td>\n",
       "      <td>7</td>\n",
       "      <td>2</td>\n",
       "      <td>@IfJews I dare consider @PeterBeinart an X-Jew...</td>\n",
       "    </tr>\n",
       "    <tr>\n",
       "      <th>3</th>\n",
       "      <td>1454035523937337350</td>\n",
       "      <td>2021-10-29 10:40:58</td>\n",
       "      <td>3</td>\n",
       "      <td>0</td>\n",
       "      <td>@_goose_god @ThManfredi Not necessariamente, j...</td>\n",
       "    </tr>\n",
       "    <tr>\n",
       "      <th>4</th>\n",
       "      <td>1453989356826361857</td>\n",
       "      <td>2021-10-29 07:37:31</td>\n",
       "      <td>46</td>\n",
       "      <td>13</td>\n",
       "      <td>FYI, after studying the issue with colleagues ...</td>\n",
       "    </tr>\n",
       "    <tr>\n",
       "      <th>...</th>\n",
       "      <td>...</td>\n",
       "      <td>...</td>\n",
       "      <td>...</td>\n",
       "      <td>...</td>\n",
       "      <td>...</td>\n",
       "    </tr>\n",
       "    <tr>\n",
       "      <th>151</th>\n",
       "      <td>1447744928344203267</td>\n",
       "      <td>2021-10-12 02:04:23</td>\n",
       "      <td>0</td>\n",
       "      <td>0</td>\n",
       "      <td>@AaronMeininger I don't get it, sorry.</td>\n",
       "    </tr>\n",
       "    <tr>\n",
       "      <th>152</th>\n",
       "      <td>1447742605119279108</td>\n",
       "      <td>2021-10-12 01:55:09</td>\n",
       "      <td>6</td>\n",
       "      <td>0</td>\n",
       "      <td>@KordingLab @metrics52 The method is correct i...</td>\n",
       "    </tr>\n",
       "    <tr>\n",
       "      <th>153</th>\n",
       "      <td>1447742605119279108</td>\n",
       "      <td>2021-10-12 01:55:09</td>\n",
       "      <td>6</td>\n",
       "      <td>0</td>\n",
       "      <td>@KordingLab @metrics52 The method is correct i...</td>\n",
       "    </tr>\n",
       "    <tr>\n",
       "      <th>154</th>\n",
       "      <td>1447716684538646531</td>\n",
       "      <td>2021-10-12 00:12:09</td>\n",
       "      <td>6</td>\n",
       "      <td>0</td>\n",
       "      <td>@KordingLab This is precisely the point. Once ...</td>\n",
       "    </tr>\n",
       "    <tr>\n",
       "      <th>155</th>\n",
       "      <td>1447714559435816967</td>\n",
       "      <td>2021-10-12 00:03:42</td>\n",
       "      <td>7</td>\n",
       "      <td>1</td>\n",
       "      <td>@EdKwangl @constant_hevia @ocampo_emilio @guid...</td>\n",
       "    </tr>\n",
       "  </tbody>\n",
       "</table>\n",
       "<p>156 rows × 5 columns</p>\n",
       "</div>"
      ],
      "text/plain": [
       "                      id          created_at  favorite_count  retweet_count  \\\n",
       "0    1454082045785694214 2021-10-29 13:45:49               0              0   \n",
       "1    1454080984660410369 2021-10-29 13:41:36              15              1   \n",
       "2    1454046053582336004 2021-10-29 11:22:48               7              2   \n",
       "3    1454035523937337350 2021-10-29 10:40:58               3              0   \n",
       "4    1453989356826361857 2021-10-29 07:37:31              46             13   \n",
       "..                   ...                 ...             ...            ...   \n",
       "151  1447744928344203267 2021-10-12 02:04:23               0              0   \n",
       "152  1447742605119279108 2021-10-12 01:55:09               6              0   \n",
       "153  1447742605119279108 2021-10-12 01:55:09               6              0   \n",
       "154  1447716684538646531 2021-10-12 00:12:09               6              0   \n",
       "155  1447714559435816967 2021-10-12 00:03:42               7              1   \n",
       "\n",
       "                                                  text  \n",
       "0    @AnothrAtheistJu No idea. I was focusing on th...  \n",
       "1    Some runners make my heart jump - must share. ...  \n",
       "2    @IfJews I dare consider @PeterBeinart an X-Jew...  \n",
       "3    @_goose_god @ThManfredi Not necessariamente, j...  \n",
       "4    FYI, after studying the issue with colleagues ...  \n",
       "..                                                 ...  \n",
       "151             @AaronMeininger I don't get it, sorry.  \n",
       "152  @KordingLab @metrics52 The method is correct i...  \n",
       "153  @KordingLab @metrics52 The method is correct i...  \n",
       "154  @KordingLab This is precisely the point. Once ...  \n",
       "155  @EdKwangl @constant_hevia @ocampo_emilio @guid...  \n",
       "\n",
       "[156 rows x 5 columns]"
      ]
     },
     "execution_count": 314,
     "metadata": {},
     "output_type": "execute_result"
    }
   ],
   "source": [
    "df"
   ]
  },
  {
   "cell_type": "markdown",
   "metadata": {},
   "source": [
    "## <a id ='8.3.'>8.3. Request tweet </a>"
   ]
  },
  {
   "cell_type": "code",
   "execution_count": 64,
   "metadata": {},
   "outputs": [],
   "source": [
    "\n",
    "# For sending GET requests from the API\n",
    "import requests\n",
    "# For saving access tokens and for file management when creating and adding to the dataset\n",
    "import os\n",
    "# For dealing with json responses we receive from the API\n",
    "import json\n",
    "# For displaying the data after\n",
    "import pandas as pd\n",
    "# For saving the response data in CSV format\n",
    "import csv\n",
    "# For parsing the dates received from twitter in readable formats\n",
    "import datetime\n",
    "import dateutil.parser\n",
    "import unicodedata\n",
    "#To add wait time between requests\n",
    "import time"
   ]
  },
  {
   "cell_type": "markdown",
   "metadata": {},
   "source": [
    "## <a id ='8.3.1.'>8.3.1. Getting ID of username - [jmwooldridge](https://twitter.com/jmwooldridge) </a> "
   ]
  },
  {
   "cell_type": "code",
   "execution_count": 171,
   "metadata": {},
   "outputs": [],
   "source": [
    "class request_id:\n",
    "    \n",
    "    def __init__( self, token):\n",
    "        self.token = token\n",
    "    \n",
    "    def create_url( self, user_name ):\n",
    "        # Specify the usernames that you want to lookup below\n",
    "        # You can enter up to 100 comma-separated values.\n",
    "        usernames = f\"usernames={ user_name }\"\n",
    "        user_fields = \"user.fields=description,created_at\"\n",
    "        # User fields are adjustable, options include:\n",
    "        # created_at, description, entities, id, location, name,\n",
    "        # pinned_tweet_id, profile_image_url, protected,\n",
    "        # public_metrics, url, username, verified, and withheld\n",
    "        url = \"https://api.twitter.com/2/users/by?{}&{}\".format(usernames, user_fields)\n",
    "        self.url = url\n",
    "\n",
    "\n",
    "    def bearer_oauth( self, r ):\n",
    "        \"\"\"\n",
    "        Method required by bearer token authentication.\n",
    "        \"\"\"\n",
    "\n",
    "        r.headers[\"Authorization\"] = f\"Bearer {self.token}\"\n",
    "        r.headers[\"User-Agent\"] = \"v2UserLookupPython\"\n",
    "        \n",
    "        self.r = r\n",
    "        return r\n",
    "\n",
    "\n",
    "    def connect_to_endpoint( self ):\n",
    "        url = self.url\n",
    "        response = requests.request(\"GET\", url, auth= self.bearer_oauth,)\n",
    "        print(response.status_code)\n",
    "        if response.status_code != 200:\n",
    "            raise Exception(\n",
    "                \"Request returned an error: {} {}\".format(\n",
    "                    response.status_code, response.text\n",
    "                )\n",
    "            )\n",
    "            \n",
    "        return response.json()"
   ]
  },
  {
   "cell_type": "markdown",
   "metadata": {},
   "source": [
    "Token"
   ]
  },
  {
   "cell_type": "code",
   "execution_count": 315,
   "metadata": {},
   "outputs": [],
   "source": [
    "Bearer_Token = \"AAAAAAAAAAAAAAAAAAAAAHqDOQEAAAAAPA5oeW2gyTdgJwB9SSD%2BNKA%2FJ%2Bw%3DX2kzyM5P5njVWdRPVKfkvExHpPFeQIPvsTremmSp3ygCjTNoUd\"\n",
    "get_id_woold = request_id( Bearer_Token )"
   ]
  },
  {
   "cell_type": "markdown",
   "metadata": {},
   "source": [
    "Username"
   ]
  },
  {
   "cell_type": "code",
   "execution_count": 174,
   "metadata": {},
   "outputs": [
    {
     "name": "stdout",
     "output_type": "stream",
     "text": [
      "200\n"
     ]
    }
   ],
   "source": [
    "get_id_woold.create_url( 'jmwooldridge' )\n",
    "\n",
    "result = get_id_woold.connect_to_endpoint()"
   ]
  },
  {
   "cell_type": "markdown",
   "metadata": {},
   "source": [
    "Getting Data"
   ]
  },
  {
   "cell_type": "code",
   "execution_count": 166,
   "metadata": {},
   "outputs": [],
   "source": [
    "id_woold = result['data'][0]['id']\n",
    "id_woold"
   ]
  },
  {
   "cell_type": "markdown",
   "metadata": {},
   "source": [
    "## <a id = '8.3.2.'>8.3.2. [Getting Tweets Timeline](https://developer.twitter.com/en/docs/twitter-api/tweets/timelines/introduction) - [jmwooldridge](https://twitter.com/jmwooldridge) </a> \n",
    "\n",
    "The endpoint can return the 3,200 most recent Tweets, Retweets, replies and Quote Tweets posted by the user. <br>\n",
    "The user Tweet timeline also supports the ability to specify `start_time` and `end_time` parameters to receive Tweets that were created within a certain window of time. "
   ]
  },
  {
   "cell_type": "code",
   "execution_count": 213,
   "metadata": {},
   "outputs": [],
   "source": [
    "def create_url(  user_id ):\n",
    "    # Replace with user ID below\n",
    "    return \"https://api.twitter.com/2/users/{}/tweets\".format(user_id)\n",
    "\n",
    "\n",
    "def get_params():\n",
    "    # Tweet fields are adjustable.\n",
    "    # Options include:\n",
    "    # attachments, author_id, context_annotations,\n",
    "    # conversation_id, created_at, entities, geo, id,\n",
    "    # in_reply_to_user_id, lang, non_public_metrics, organic_metrics,\n",
    "    # possibly_sensitive, promoted_metrics, public_metrics, referenced_tweets,\n",
    "    # source, text, and withheld\n",
    "    return {\"tweet.fields\": \"created_at\", \"max_results\" : 100 }\n",
    "\n",
    "\n",
    "def bearer_oauth(r):\n",
    "    \"\"\"\n",
    "    Method required by bearer token authentication.\n",
    "    \"\"\"\n",
    "    r.headers[\"Authorization\"] = f\"Bearer {bearer_token}\"\n",
    "    r.headers[\"User-Agent\"] = \"v2UserTweetsPython\"\n",
    "    return r\n",
    "\n",
    "\n",
    "def connect_to_endpoint(url, params, next_token = None ):\n",
    "    params['pagination_token'] = next_token\n",
    "    response = requests.request(\"GET\", url, auth=bearer_oauth, params=params)\n",
    "    print(response.status_code)\n",
    "    if response.status_code != 200:\n",
    "        raise Exception(\n",
    "            \"Request returned an error: {} {}\".format(\n",
    "                response.status_code, response.text\n",
    "            )\n",
    "        )\n",
    "    return response.json()"
   ]
  },
  {
   "cell_type": "code",
   "execution_count": 214,
   "metadata": {},
   "outputs": [],
   "source": [
    "bearer_token = 'AAAAAAAAAAAAAAAAAAAAAHqDOQEAAAAAPA5oeW2gyTdgJwB9SSD%2BNKA%2FJ%2Bw%3DX2kzyM5P5njVWdRPVKfkvExHpPFeQIPvsTremmSp3ygCjTNoUd'"
   ]
  },
  {
   "cell_type": "code",
   "execution_count": 241,
   "metadata": {},
   "outputs": [
    {
     "name": "stdout",
     "output_type": "stream",
     "text": [
      "200\n"
     ]
    }
   ],
   "source": [
    "url = create_url( id_woold )\n",
    "param = get_params()\n",
    "result = connect_to_endpoint( url, param)"
   ]
  },
  {
   "cell_type": "code",
   "execution_count": 242,
   "metadata": {},
   "outputs": [],
   "source": [
    "data = result['data']"
   ]
  },
  {
   "cell_type": "code",
   "execution_count": 245,
   "metadata": {},
   "outputs": [
    {
     "name": "stdout",
     "output_type": "stream",
     "text": [
      "200\n",
      "200\n",
      "200\n",
      "200\n",
      "200\n",
      "200\n",
      "200\n",
      "200\n",
      "200\n",
      "200\n",
      "200\n",
      "200\n",
      "200\n",
      "200\n",
      "200\n",
      "200\n",
      "200\n",
      "200\n",
      "200\n",
      "200\n",
      "200\n",
      "200\n",
      "200\n",
      "200\n",
      "200\n",
      "200\n",
      "200\n",
      "200\n",
      "200\n",
      "200\n",
      "200\n",
      "200\n",
      "200\n",
      "200\n"
     ]
    }
   ],
   "source": [
    "next_token = 'next_token' in result['meta'].keys()\n",
    "page = 1\n",
    "while next_token == True:\n",
    "    try:\n",
    "        restult = connect_to_endpoint( url, param, result['meta']['next_token'] )\n",
    "        data = data + result['data']\n",
    "    except:\n",
    "        next_token = False\n",
    "    \n",
    "    if page > 33:\n",
    "        next_token = False\n",
    "    \n",
    "    page = page + 1"
   ]
  },
  {
   "cell_type": "code",
   "execution_count": 246,
   "metadata": {},
   "outputs": [],
   "source": [
    "df = pd.DataFrame( data )"
   ]
  },
  {
   "cell_type": "code",
   "execution_count": 255,
   "metadata": {},
   "outputs": [
    {
     "data": {
      "text/html": [
       "<div>\n",
       "<style scoped>\n",
       "    .dataframe tbody tr th:only-of-type {\n",
       "        vertical-align: middle;\n",
       "    }\n",
       "\n",
       "    .dataframe tbody tr th {\n",
       "        vertical-align: top;\n",
       "    }\n",
       "\n",
       "    .dataframe thead th {\n",
       "        text-align: right;\n",
       "    }\n",
       "</style>\n",
       "<table border=\"1\" class=\"dataframe\">\n",
       "  <thead>\n",
       "    <tr style=\"text-align: right;\">\n",
       "      <th></th>\n",
       "      <th>created_at</th>\n",
       "      <th>id</th>\n",
       "      <th>text</th>\n",
       "    </tr>\n",
       "  </thead>\n",
       "  <tbody>\n",
       "    <tr>\n",
       "      <th>3200</th>\n",
       "      <td>2021-12-16T04:21:28.000Z</td>\n",
       "      <td>1471334639986003968</td>\n",
       "      <td>I must look ridiculous waving my arms when I l...</td>\n",
       "    </tr>\n",
       "    <tr>\n",
       "      <th>3201</th>\n",
       "      <td>2021-12-16T03:56:21.000Z</td>\n",
       "      <td>1471328315747221510</td>\n",
       "      <td>@pedrohcgs @agoodmanbacon Oops. Well, I was th...</td>\n",
       "    </tr>\n",
       "    <tr>\n",
       "      <th>3202</th>\n",
       "      <td>2021-12-16T03:25:42.000Z</td>\n",
       "      <td>1471320603776983046</td>\n",
       "      <td>@agoodmanbacon I think mine was scheduled first!</td>\n",
       "    </tr>\n",
       "    <tr>\n",
       "      <th>3203</th>\n",
       "      <td>2021-12-16T00:40:24.000Z</td>\n",
       "      <td>1471279005349339138</td>\n",
       "      <td>@KoyoRain @KyleCSN @linstonwin These are preci...</td>\n",
       "    </tr>\n",
       "    <tr>\n",
       "      <th>3204</th>\n",
       "      <td>2021-12-16T00:35:58.000Z</td>\n",
       "      <td>1471277890125844480</td>\n",
       "      <td>Now that the DiD webinar is over, I have a cru...</td>\n",
       "    </tr>\n",
       "    <tr>\n",
       "      <th>...</th>\n",
       "      <td>...</td>\n",
       "      <td>...</td>\n",
       "      <td>...</td>\n",
       "    </tr>\n",
       "    <tr>\n",
       "      <th>3495</th>\n",
       "      <td>2021-12-03T15:40:26.000Z</td>\n",
       "      <td>1466794463804772352</td>\n",
       "      <td>https://t.co/vip0b8Pf7A\\n\\nNick's homepage:\\nh...</td>\n",
       "    </tr>\n",
       "    <tr>\n",
       "      <th>3496</th>\n",
       "      <td>2021-12-03T15:40:26.000Z</td>\n",
       "      <td>1466794462517026818</td>\n",
       "      <td>We show how to properly do inference with pool...</td>\n",
       "    </tr>\n",
       "    <tr>\n",
       "      <th>3497</th>\n",
       "      <td>2021-12-03T15:40:25.000Z</td>\n",
       "      <td>1466794461078433797</td>\n",
       "      <td>We allow more dependence across components and...</td>\n",
       "    </tr>\n",
       "    <tr>\n",
       "      <th>3498</th>\n",
       "      <td>2021-12-03T15:40:25.000Z</td>\n",
       "      <td>1466794459690065926</td>\n",
       "      <td>The CCE approach has been used mostly for larg...</td>\n",
       "    </tr>\n",
       "    <tr>\n",
       "      <th>3499</th>\n",
       "      <td>2021-12-03T15:40:25.000Z</td>\n",
       "      <td>1466794458268250120</td>\n",
       "      <td>Below is a link to a new paper by Nick Brown (...</td>\n",
       "    </tr>\n",
       "  </tbody>\n",
       "</table>\n",
       "<p>300 rows × 3 columns</p>\n",
       "</div>"
      ],
      "text/plain": [
       "                    created_at                   id  \\\n",
       "3200  2021-12-16T04:21:28.000Z  1471334639986003968   \n",
       "3201  2021-12-16T03:56:21.000Z  1471328315747221510   \n",
       "3202  2021-12-16T03:25:42.000Z  1471320603776983046   \n",
       "3203  2021-12-16T00:40:24.000Z  1471279005349339138   \n",
       "3204  2021-12-16T00:35:58.000Z  1471277890125844480   \n",
       "...                        ...                  ...   \n",
       "3495  2021-12-03T15:40:26.000Z  1466794463804772352   \n",
       "3496  2021-12-03T15:40:26.000Z  1466794462517026818   \n",
       "3497  2021-12-03T15:40:25.000Z  1466794461078433797   \n",
       "3498  2021-12-03T15:40:25.000Z  1466794459690065926   \n",
       "3499  2021-12-03T15:40:25.000Z  1466794458268250120   \n",
       "\n",
       "                                                   text  \n",
       "3200  I must look ridiculous waving my arms when I l...  \n",
       "3201  @pedrohcgs @agoodmanbacon Oops. Well, I was th...  \n",
       "3202   @agoodmanbacon I think mine was scheduled first!  \n",
       "3203  @KoyoRain @KyleCSN @linstonwin These are preci...  \n",
       "3204  Now that the DiD webinar is over, I have a cru...  \n",
       "...                                                 ...  \n",
       "3495  https://t.co/vip0b8Pf7A\\n\\nNick's homepage:\\nh...  \n",
       "3496  We show how to properly do inference with pool...  \n",
       "3497  We allow more dependence across components and...  \n",
       "3498  The CCE approach has been used mostly for larg...  \n",
       "3499  Below is a link to a new paper by Nick Brown (...  \n",
       "\n",
       "[300 rows x 3 columns]"
      ]
     },
     "execution_count": 255,
     "metadata": {},
     "output_type": "execute_result"
    }
   ],
   "source": [
    "df.iloc[ 3200:, :]"
   ]
  },
  {
   "cell_type": "markdown",
   "metadata": {},
   "source": [
    "As we can see, there are duplicates observations since We are allowed to request only 3200 tweets."
   ]
  },
  {
   "cell_type": "code",
   "execution_count": 251,
   "metadata": {
    "scrolled": true
   },
   "outputs": [
    {
     "data": {
      "text/html": [
       "<div>\n",
       "<style scoped>\n",
       "    .dataframe tbody tr th:only-of-type {\n",
       "        vertical-align: middle;\n",
       "    }\n",
       "\n",
       "    .dataframe tbody tr th {\n",
       "        vertical-align: top;\n",
       "    }\n",
       "\n",
       "    .dataframe thead th {\n",
       "        text-align: right;\n",
       "    }\n",
       "</style>\n",
       "<table border=\"1\" class=\"dataframe\">\n",
       "  <thead>\n",
       "    <tr style=\"text-align: right;\">\n",
       "      <th></th>\n",
       "      <th>created_at</th>\n",
       "      <th>id</th>\n",
       "      <th>text</th>\n",
       "    </tr>\n",
       "  </thead>\n",
       "  <tbody>\n",
       "    <tr>\n",
       "      <th>0</th>\n",
       "      <td>2021-12-16T04:21:28.000Z</td>\n",
       "      <td>1471334639986003968</td>\n",
       "      <td>I must look ridiculous waving my arms when I l...</td>\n",
       "    </tr>\n",
       "    <tr>\n",
       "      <th>1</th>\n",
       "      <td>2021-12-16T03:56:21.000Z</td>\n",
       "      <td>1471328315747221510</td>\n",
       "      <td>@pedrohcgs @agoodmanbacon Oops. Well, I was th...</td>\n",
       "    </tr>\n",
       "    <tr>\n",
       "      <th>2</th>\n",
       "      <td>2021-12-16T03:25:42.000Z</td>\n",
       "      <td>1471320603776983046</td>\n",
       "      <td>@agoodmanbacon I think mine was scheduled first!</td>\n",
       "    </tr>\n",
       "    <tr>\n",
       "      <th>3</th>\n",
       "      <td>2021-12-16T00:40:24.000Z</td>\n",
       "      <td>1471279005349339138</td>\n",
       "      <td>@KoyoRain @KyleCSN @linstonwin These are preci...</td>\n",
       "    </tr>\n",
       "    <tr>\n",
       "      <th>4</th>\n",
       "      <td>2021-12-16T00:35:58.000Z</td>\n",
       "      <td>1471277890125844480</td>\n",
       "      <td>Now that the DiD webinar is over, I have a cru...</td>\n",
       "    </tr>\n",
       "    <tr>\n",
       "      <th>...</th>\n",
       "      <td>...</td>\n",
       "      <td>...</td>\n",
       "      <td>...</td>\n",
       "    </tr>\n",
       "    <tr>\n",
       "      <th>3195</th>\n",
       "      <td>2021-12-03T15:40:26.000Z</td>\n",
       "      <td>1466794463804772352</td>\n",
       "      <td>https://t.co/vip0b8Pf7A\\n\\nNick's homepage:\\nh...</td>\n",
       "    </tr>\n",
       "    <tr>\n",
       "      <th>3196</th>\n",
       "      <td>2021-12-03T15:40:26.000Z</td>\n",
       "      <td>1466794462517026818</td>\n",
       "      <td>We show how to properly do inference with pool...</td>\n",
       "    </tr>\n",
       "    <tr>\n",
       "      <th>3197</th>\n",
       "      <td>2021-12-03T15:40:25.000Z</td>\n",
       "      <td>1466794461078433797</td>\n",
       "      <td>We allow more dependence across components and...</td>\n",
       "    </tr>\n",
       "    <tr>\n",
       "      <th>3198</th>\n",
       "      <td>2021-12-03T15:40:25.000Z</td>\n",
       "      <td>1466794459690065926</td>\n",
       "      <td>The CCE approach has been used mostly for larg...</td>\n",
       "    </tr>\n",
       "    <tr>\n",
       "      <th>3199</th>\n",
       "      <td>2021-12-03T15:40:25.000Z</td>\n",
       "      <td>1466794458268250120</td>\n",
       "      <td>Below is a link to a new paper by Nick Brown (...</td>\n",
       "    </tr>\n",
       "  </tbody>\n",
       "</table>\n",
       "<p>3200 rows × 3 columns</p>\n",
       "</div>"
      ],
      "text/plain": [
       "                    created_at                   id  \\\n",
       "0     2021-12-16T04:21:28.000Z  1471334639986003968   \n",
       "1     2021-12-16T03:56:21.000Z  1471328315747221510   \n",
       "2     2021-12-16T03:25:42.000Z  1471320603776983046   \n",
       "3     2021-12-16T00:40:24.000Z  1471279005349339138   \n",
       "4     2021-12-16T00:35:58.000Z  1471277890125844480   \n",
       "...                        ...                  ...   \n",
       "3195  2021-12-03T15:40:26.000Z  1466794463804772352   \n",
       "3196  2021-12-03T15:40:26.000Z  1466794462517026818   \n",
       "3197  2021-12-03T15:40:25.000Z  1466794461078433797   \n",
       "3198  2021-12-03T15:40:25.000Z  1466794459690065926   \n",
       "3199  2021-12-03T15:40:25.000Z  1466794458268250120   \n",
       "\n",
       "                                                   text  \n",
       "0     I must look ridiculous waving my arms when I l...  \n",
       "1     @pedrohcgs @agoodmanbacon Oops. Well, I was th...  \n",
       "2      @agoodmanbacon I think mine was scheduled first!  \n",
       "3     @KoyoRain @KyleCSN @linstonwin These are preci...  \n",
       "4     Now that the DiD webinar is over, I have a cru...  \n",
       "...                                                 ...  \n",
       "3195  https://t.co/vip0b8Pf7A\\n\\nNick's homepage:\\nh...  \n",
       "3196  We show how to properly do inference with pool...  \n",
       "3197  We allow more dependence across components and...  \n",
       "3198  The CCE approach has been used mostly for larg...  \n",
       "3199  Below is a link to a new paper by Nick Brown (...  \n",
       "\n",
       "[3200 rows x 3 columns]"
      ]
     },
     "execution_count": 251,
     "metadata": {},
     "output_type": "execute_result"
    }
   ],
   "source": [
    "df.iloc[ :3200, :]"
   ]
  },
  {
   "cell_type": "markdown",
   "metadata": {},
   "source": [
    "## <a id='8.4.'>8.4. References</a>  "
   ]
  },
  {
   "cell_type": "markdown",
   "metadata": {},
   "source": [
    "https://towardsdatascience.com/an-extensive-guide-to-collecting-tweets-from-twitter-api-v2-for-academic-research-using-python-3-518fcb71df2a\n",
    "\n",
    "https://fairyonice.github.io/extract-someones-tweet-using-tweepy.html"
   ]
  }
 ],
 "metadata": {
  "hide_input": false,
  "kernelspec": {
   "display_name": "Python 3 (ipykernel)",
   "language": "python",
   "name": "python3"
  },
  "language_info": {
   "codemirror_mode": {
    "name": "ipython",
    "version": 3
   },
   "file_extension": ".py",
   "mimetype": "text/x-python",
   "name": "python",
   "nbconvert_exporter": "python",
   "pygments_lexer": "ipython3",
   "version": "3.7.10"
  }
 },
 "nbformat": 4,
 "nbformat_minor": 4
}
