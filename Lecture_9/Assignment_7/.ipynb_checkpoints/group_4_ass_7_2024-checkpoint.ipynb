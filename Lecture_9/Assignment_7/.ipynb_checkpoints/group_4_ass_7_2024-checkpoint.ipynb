{
 "cells": [
  {
   "cell_type": "markdown",
   "id": "d8fec047",
   "metadata": {},
   "source": [
    "# 1. Import datasets"
   ]
  },
  {
   "cell_type": "code",
   "execution_count": 12,
   "id": "3344ccd7",
   "metadata": {},
   "outputs": [],
   "source": [
    "import pandas as pd\n",
    "import numpy as np\n",
    "\n",
    "# Load the datasets\n",
    "health_estb = \"https://github.com/alexanderquispe/Diplomado_PUCP/raw/main/_data/cajamarca_data_helth_estb.xlsx\"\n",
    "districts_centroids = \"https://github.com/alexanderquispe/Diplomado_PUCP/raw/main/_data/peru_districts_centroids.xlsx\"\n",
    "\n",
    "health_estb_df = pd.read_excel(health_estb)\n",
    "districts_centroids_df = pd.read_excel(districts_centroids)\n",
    "\n",
    "# Filter districts_centroids_df for Cajamarca\n",
    "cajamarca_districts = districts_centroids_df[districts_centroids_df['NOMBDEP'] == 'CAJAMARCA']"
   ]
  },
  {
   "cell_type": "markdown",
   "id": "0c928a96",
   "metadata": {},
   "source": [
    "# 2. Find the closest health establishment to Cajamarca district centroids"
   ]
  },
  {
   "cell_type": "code",
   "execution_count": 13,
   "id": "e0bfb733",
   "metadata": {},
   "outputs": [
    {
     "name": "stdout",
     "output_type": "stream",
     "text": [
      "   district_id  health_estb_id  min_distance\n",
      "0        60504            5348      0.016409\n",
      "1        61105           21765      0.007784\n",
      "2        61109            7184      0.003033\n",
      "3        61110           13171      0.063633\n",
      "4        61203            5349      0.004683\n"
     ]
    }
   ],
   "source": [
    "import numpy as np\n",
    "\n",
    "# Función para calcular la distancia euclidiana\n",
    "def euclidean_distance(lat1, lon1, lat2, lon2):\n",
    "    return np.sqrt((lat2 - lat1)**2 + (lon2 - lon1)**2)\n",
    "\n",
    "# Crear una lista para almacenar el establecimiento de salud más cercano para cada distrito\n",
    "closest_health_estb = []\n",
    "\n",
    "# Iterar sobre cada distrito para encontrar el establecimiento de salud más cercano\n",
    "for index, district in cajamarca_districts.iterrows():\n",
    "    min_distance = np.inf\n",
    "    closest_estb = None\n",
    "    for _, estb in health_estb_df.iterrows():\n",
    "        # Ajustar a 'latitud' y 'longitud' para los nombres de las columnas\n",
    "        distance = euclidean_distance(district['Centroid_Latitude'], district['Centroid_Longitude'], estb['latitud'], estb['longitud'])\n",
    "        if distance < min_distance:\n",
    "            min_distance = distance\n",
    "            closest_estb = estb\n",
    "    closest_health_estb.append({\n",
    "        'district_id': district['CODIGO'],\n",
    "        'health_estb_id': closest_estb['id_eess'],\n",
    "        'min_distance': min_distance\n",
    "    })\n",
    "\n",
    "# Convertir la lista en un DataFrame\n",
    "closest_health_estb_df = pd.DataFrame(closest_health_estb)\n",
    "\n",
    "# Mostrar o guardar el resultado\n",
    "print(closest_health_estb_df.head())"
   ]
  },
  {
   "cell_type": "markdown",
   "id": "2037c5d1",
   "metadata": {},
   "source": [
    "# 3. Using Google API Directions to find the driving travel time and distance from health establishments to district centroids"
   ]
  },
  {
   "cell_type": "code",
   "execution_count": null,
   "id": "70fd697d",
   "metadata": {},
   "outputs": [],
   "source": []
  }
 ],
 "metadata": {
  "kernelspec": {
   "display_name": "Python 3 (ipykernel)",
   "language": "python",
   "name": "python3"
  },
  "language_info": {
   "codemirror_mode": {
    "name": "ipython",
    "version": 3
   },
   "file_extension": ".py",
   "mimetype": "text/x-python",
   "name": "python",
   "nbconvert_exporter": "python",
   "pygments_lexer": "ipython3",
   "version": "3.11.5"
  }
 },
 "nbformat": 4,
 "nbformat_minor": 5
}
