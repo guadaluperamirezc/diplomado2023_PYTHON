{
 "cells": [
  {
   "cell_type": "code",
   "execution_count": 1,
   "metadata": {},
   "outputs": [
    {
     "name": "stderr",
     "output_type": "stream",
     "text": [
      "/var/folders/r4/lwrzx5hs7d3cxk4p5zsy7zqh0000gp/T/ipykernel_29032/2461225152.py:13: DeprecationWarning: Importing display from IPython.core.display is deprecated since IPython 7.14, please import from IPython display\n",
      "  from IPython.core.display import display, HTML\n"
     ]
    }
   ],
   "source": [
    "import os\n",
    "import pickle\n",
    "import pandas as pd\n",
    "import numpy as np\n",
    "import savReaderWriter as sav\n",
    "import pandas as pd\n",
    "import numpy as np\n",
    "from datetime import datetime\n",
    "%matplotlib inline\n",
    "\n",
    "import matplotlib.pyplot as plt\n",
    "import ipywidgets as widgets\n",
    "from IPython.core.display import display, HTML\n",
    "import seaborn as sns\n",
    "import pandas as pd\n",
    "import numpy as np\n",
    "\n",
    "# Legend\n",
    "import matplotlib.patches as mpatches\n",
    "import matplotlib.lines as mlines\n",
    "import unidecode\n",
    "plt.rcParams.update({'font.size': 16})"
   ]
  },
  {
   "cell_type": "code",
   "execution_count": 7,
   "metadata": {},
   "outputs": [
    {
     "name": "stdout",
     "output_type": "stream",
     "text": [
      "Unexpected exception formatting exception. Falling back to standard exception\n"
     ]
    },
    {
     "name": "stderr",
     "output_type": "stream",
     "text": [
      "Traceback (most recent call last):\n",
      "  File \"/Users/ar8787/anaconda3/lib/python3.11/site-packages/IPython/core/interactiveshell.py\", line 3526, in run_code\n",
      "    exec(code_obj, self.user_global_ns, self.user_ns)\n",
      "  File \"/var/folders/r4/lwrzx5hs7d3cxk4p5zsy7zqh0000gp/T/ipykernel_29032/441731810.py\", line 3, in <module>\n",
      "    df = pickle.load(f )\n",
      "         ^^^^^^^^^^^^^^^\n",
      "  File \"/Users/ar8787/anaconda3/lib/python3.11/site-packages/pandas/core/internals/blocks.py\", line 2400, in new_block\n",
      "TypeError: Argument 'placement' has incorrect type (expected pandas._libs.internals.BlockPlacement, got slice)\n",
      "\n",
      "During handling of the above exception, another exception occurred:\n",
      "\n",
      "Traceback (most recent call last):\n",
      "  File \"/Users/ar8787/anaconda3/lib/python3.11/site-packages/IPython/core/interactiveshell.py\", line 2120, in showtraceback\n",
      "    stb = self.InteractiveTB.structured_traceback(\n",
      "          ^^^^^^^^^^^^^^^^^^^^^^^^^^^^^^^^^^^^^^^^\n",
      "  File \"/Users/ar8787/anaconda3/lib/python3.11/site-packages/IPython/core/ultratb.py\", line 1435, in structured_traceback\n",
      "    return FormattedTB.structured_traceback(\n",
      "           ^^^^^^^^^^^^^^^^^^^^^^^^^^^^^^^^^\n",
      "  File \"/Users/ar8787/anaconda3/lib/python3.11/site-packages/IPython/core/ultratb.py\", line 1326, in structured_traceback\n",
      "    return VerboseTB.structured_traceback(\n",
      "           ^^^^^^^^^^^^^^^^^^^^^^^^^^^^^^^\n",
      "  File \"/Users/ar8787/anaconda3/lib/python3.11/site-packages/IPython/core/ultratb.py\", line 1173, in structured_traceback\n",
      "    formatted_exception = self.format_exception_as_a_whole(etype, evalue, etb, number_of_lines_of_context,\n",
      "                          ^^^^^^^^^^^^^^^^^^^^^^^^^^^^^^^^^^^^^^^^^^^^^^^^^^^^^^^^^^^^^^^^^^^^^^^^^^^^^^^^\n",
      "  File \"/Users/ar8787/anaconda3/lib/python3.11/site-packages/IPython/core/ultratb.py\", line 1088, in format_exception_as_a_whole\n",
      "    frames.append(self.format_record(record))\n",
      "                  ^^^^^^^^^^^^^^^^^^^^^^^^^^\n",
      "  File \"/Users/ar8787/anaconda3/lib/python3.11/site-packages/IPython/core/ultratb.py\", line 970, in format_record\n",
      "    frame_info.lines, Colors, self.has_colors, lvals\n",
      "    ^^^^^^^^^^^^^^^^\n",
      "  File \"/Users/ar8787/anaconda3/lib/python3.11/site-packages/IPython/core/ultratb.py\", line 792, in lines\n",
      "    return self._sd.lines\n",
      "           ^^^^^^^^^^^^^^\n",
      "  File \"/Users/ar8787/anaconda3/lib/python3.11/site-packages/stack_data/utils.py\", line 145, in cached_property_wrapper\n",
      "    value = obj.__dict__[self.func.__name__] = self.func(obj)\n",
      "                                               ^^^^^^^^^^^^^^\n",
      "  File \"/Users/ar8787/anaconda3/lib/python3.11/site-packages/stack_data/core.py\", line 698, in lines\n",
      "    pieces = self.included_pieces\n",
      "             ^^^^^^^^^^^^^^^^^^^^\n",
      "  File \"/Users/ar8787/anaconda3/lib/python3.11/site-packages/stack_data/utils.py\", line 145, in cached_property_wrapper\n",
      "    value = obj.__dict__[self.func.__name__] = self.func(obj)\n",
      "                                               ^^^^^^^^^^^^^^\n",
      "  File \"/Users/ar8787/anaconda3/lib/python3.11/site-packages/stack_data/core.py\", line 649, in included_pieces\n",
      "    pos = scope_pieces.index(self.executing_piece)\n",
      "                             ^^^^^^^^^^^^^^^^^^^^\n",
      "  File \"/Users/ar8787/anaconda3/lib/python3.11/site-packages/stack_data/utils.py\", line 145, in cached_property_wrapper\n",
      "    value = obj.__dict__[self.func.__name__] = self.func(obj)\n",
      "                                               ^^^^^^^^^^^^^^\n",
      "  File \"/Users/ar8787/anaconda3/lib/python3.11/site-packages/stack_data/core.py\", line 628, in executing_piece\n",
      "    return only(\n",
      "           ^^^^^\n",
      "  File \"/Users/ar8787/anaconda3/lib/python3.11/site-packages/executing/executing.py\", line 164, in only\n",
      "    raise NotOneValueFound('Expected one value, found 0')\n",
      "executing.executing.NotOneValueFound: Expected one value, found 0\n"
     ]
    }
   ],
   "source": [
    "# Importing data\n",
    "with open( r'../_data/data_endes.pickle', 'rb') as f:\n",
    "    df = pickle.load(f )"
   ]
  },
  {
   "cell_type": "markdown",
   "metadata": {},
   "source": [
    "Check Unique ID"
   ]
  },
  {
   "cell_type": "code",
   "execution_count": null,
   "metadata": {},
   "outputs": [],
   "source": [
    "(df.CASEID + df.year.astype( str )).is_unique"
   ]
  },
  {
   "cell_type": "markdown",
   "metadata": {},
   "source": [
    "From CMC to datetime. Info about datetime use [this link](https://docs.python.org/3/library/datetime.html#datetime.datetime.strptime)"
   ]
  },
  {
   "cell_type": "code",
   "execution_count": null,
   "metadata": {},
   "outputs": [],
   "source": [
    "from datetime import datetime\n",
    "\n",
    "datetime.strptime( f'09-02-2019', '%m-%d-%Y')"
   ]
  },
  {
   "cell_type": "markdown",
   "metadata": {},
   "source": [
    "See [this article](https://demographicestimation.iussp.org/content/dhs-century-month-codes) to convert CMC to datetime"
   ]
  },
  {
   "cell_type": "code",
   "execution_count": null,
   "metadata": {},
   "outputs": [],
   "source": [
    "def cmc_date( cmc ):\n",
    "    year = 1900 + int( ( cmc - 1 ) / 12 )\n",
    "    month = int( cmc - 12*( year - 1900 ) )\n",
    "    datetime_object = datetime.strptime( f'{month}/{year}', '%m/%Y')\n",
    "    \n",
    "    return datetime_object"
   ]
  },
  {
   "cell_type": "code",
   "execution_count": null,
   "metadata": {
    "scrolled": true
   },
   "outputs": [],
   "source": [
    "df[ 'inerview_date' ] = df.V008.apply( lambda x: cmc_date( x ) )"
   ]
  },
  {
   "cell_type": "code",
   "execution_count": null,
   "metadata": {},
   "outputs": [],
   "source": [
    "df[ 'inerview_month' ] = df[ 'inerview_date' ].dt.strftime( \"%b\" )\n",
    "df[ 'inerview_month1' ] = df[ 'inerview_date' ].dt.month\n",
    "df[ 'inerview_year' ] = df[ 'inerview_date' ].dt.year\n",
    "df.sort_values( 'inerview_month1', inplace = True )"
   ]
  },
  {
   "cell_type": "code",
   "execution_count": null,
   "metadata": {},
   "outputs": [],
   "source": [
    "# Settin\n",
    "\n",
    "fig1 = sns.catplot( data = df, x = 'inerview_month', kind = 'count',\n",
    "            hue = 'inerview_year', \n",
    "            palette = sns.color_palette(\"mako_r\", 5 ), \n",
    "            legend = False )\n",
    "\n",
    "\n",
    "fig1.fig.set_size_inches( 15, 8 )\n",
    "\n",
    "plt.ylabel( \"Number of Interviews\" )\n",
    "plt.xlabel( \"Month\" )\n",
    "plt.legend( title = 'Year', bbox_to_anchor = (1.15, 1 ), loc = 0 )"
   ]
  },
  {
   "cell_type": "code",
   "execution_count": null,
   "metadata": {},
   "outputs": [],
   "source": [
    "# Settin\n",
    "fig1 = sns.catplot( data = df, x = 'inerview_month', kind = 'count',\n",
    "            col = 'inerview_year', col_wrap = 2,\n",
    "            legend = False,  color = (0.2, 0.4, 0.6, 0.6) )\n",
    "\n",
    "# Fix figure size\n",
    "fig1.fig.set_size_inches( 18, 14 )\n",
    "\n",
    "# Fix title \n",
    "# add space between plots and title\n",
    "fig1.fig.subplots_adjust(top=0.9)\n",
    "fig1.fig.suptitle( \"Number of Interview by Month and Year\", \n",
    "                size = 18  )\n",
    "\n",
    "# Add vertical space between plots\n",
    "plt.subplots_adjust( hspace = 0.2 )\n",
    "\n",
    "# Set axis labels\n",
    "fig1.set_axis_labels( \"Month\", \"Number of Interviews\", size = 15 )\n",
    "\n",
    "# Change title for each subplot\n",
    "for year in fig1.axes_dict.keys():\n",
    "    fig1.axes_dict[ year ].set_title( f'Interview Year - { year }' )\n",
    "    \n"
   ]
  },
  {
   "cell_type": "markdown",
   "metadata": {},
   "source": [
    "Distribution of Age"
   ]
  },
  {
   "cell_type": "code",
   "execution_count": null,
   "metadata": {},
   "outputs": [],
   "source": [
    "fig2 = sns.displot( data = df, x = 'V012', hue = 'year', \n",
    "            palette = sns.color_palette(\"mako_r\", 5 ), \n",
    "           kind = \"kde\" )\n",
    "\n",
    "\n",
    "# Make title\n",
    "fig2.fig.subplots_adjust(top=0.9)\n",
    "fig2.fig.suptitle( \"Distribution of Interviewed Age by Surveys Year\", \n",
    "                size = 14 )\n",
    "\n",
    "# Change legend title\n",
    "fig2._legend.set_title( \"Year\" )\n",
    "\n",
    "# Set axis labels\n",
    "fig2.set_axis_labels( \"Age\", \"Density\", size = 15 );\n"
   ]
  },
  {
   "cell_type": "markdown",
   "metadata": {},
   "source": [
    "Distribution Total children ever born by place of residence"
   ]
  },
  {
   "cell_type": "code",
   "execution_count": null,
   "metadata": {},
   "outputs": [],
   "source": [
    "df.V102.unique()"
   ]
  },
  {
   "cell_type": "code",
   "execution_count": null,
   "metadata": {},
   "outputs": [],
   "source": [
    "df[ 'urban' ] = df.V102.copy()\n",
    "df[ 'urban' ].replace( 'Urbana', 'Urbano', inplace = True )\n",
    "df[ 'urban' ].replace( 'Urban', 'Urbano', inplace = True )"
   ]
  },
  {
   "cell_type": "code",
   "execution_count": null,
   "metadata": {},
   "outputs": [],
   "source": [
    "df.attrs['var_labels']"
   ]
  },
  {
   "cell_type": "code",
   "execution_count": null,
   "metadata": {},
   "outputs": [],
   "source": [
    "# Plot ploints\n",
    "fig = plt.figure( figsize = ( 10, 9 ) )\n",
    "sns.stripplot( y = \"V201\", hue = \"year\", \n",
    "                x = \"urban\", \n",
    "                data = df, jitter = True,\n",
    "                palette = sns.color_palette(\"rocket\", 5 )[::-1], \n",
    "                dodge = True, \n",
    "                linewidth = 1, edgecolor = 'white' )\n",
    "\n",
    "# Plot boxplot\n",
    "yx = sns.boxplot( y = \"V201\", hue = \"year\", \n",
    "                x = \"urban\", \n",
    "                data = df, \n",
    "                palette = sns.color_palette(\"rocket\", 5 )[::-1], \n",
    "                fliersize = 0 )\n",
    "\n",
    "# Number of labels\n",
    "yr = df.year.unique().size\n",
    "\n",
    "# Get legend labels and handles\n",
    "handles, labels = yx.get_legend_handles_labels()\n",
    "\n",
    "# When creating the legend, only use the first 5 elements\n",
    "# to effectively remove the last.\n",
    "plt.legend(handles[0:yr], labels[0:yr], bbox_to_anchor=(1.05, 1), \n",
    "           loc=2, borderaxespad=0., title = \"Year\" )\n",
    "\n",
    "# x label\n",
    "plt.xlabel( \"Type of place of residence\" )\n",
    "plt.ylabel( \"Total children ever born\" );"
   ]
  },
  {
   "cell_type": "markdown",
   "metadata": {},
   "source": [
    "### Total children by cohort"
   ]
  },
  {
   "cell_type": "code",
   "execution_count": null,
   "metadata": {},
   "outputs": [],
   "source": [
    "sns.histplot( data = df, x = 'V010')\n",
    "plt.xlabel( \"Respondent's year of birth\" )"
   ]
  },
  {
   "cell_type": "code",
   "execution_count": null,
   "metadata": {},
   "outputs": [],
   "source": [
    "sns.boxplot( data = df, y = 'V010')\n",
    "plt.ylabel( \"Respondent's year of birth\" )"
   ]
  },
  {
   "cell_type": "code",
   "execution_count": null,
   "metadata": {},
   "outputs": [],
   "source": [
    "def gen_cohot( series, size = 5 ):\n",
    "    \n",
    "    min1 = int( ( ( series.min() ) / size) ) * size\n",
    "    max1 = int( np.ceil( ( series.max() ) / size) ) * size\n",
    "    result = np.arange( min1, max1 + 1 , 5 )\n",
    "    labels = np.ceil( ( result[ 1: ] + result[ :-1 ] ) / 2 ).astype( int )\n",
    "    \n",
    "    return result, labels"
   ]
  },
  {
   "cell_type": "code",
   "execution_count": null,
   "metadata": {},
   "outputs": [],
   "source": [
    "gen_cohot( df.V010, size = 10 )"
   ]
  },
  {
   "cell_type": "code",
   "execution_count": null,
   "metadata": {},
   "outputs": [],
   "source": [
    "cohorts, labels = gen_cohot( df.V010 )"
   ]
  },
  {
   "cell_type": "code",
   "execution_count": null,
   "metadata": {},
   "outputs": [],
   "source": [
    "df[ 'birth_cohort' ] = pd.cut( df.V010, bins  = cohorts, \n",
    "                              include_lowest = True, labels = labels )"
   ]
  },
  {
   "cell_type": "code",
   "execution_count": null,
   "metadata": {},
   "outputs": [],
   "source": [
    "df"
   ]
  },
  {
   "cell_type": "code",
   "execution_count": null,
   "metadata": {},
   "outputs": [],
   "source": [
    "# Plot ploints\n",
    "fig = plt.figure( figsize = ( 10, 9 ) )\n",
    "\n",
    "sns.pointplot( x = \"birth_cohort\", y = \"V201\", \n",
    "               data = df, ci = 'sd')\n",
    "\n",
    "# x label\n",
    "plt.xlabel( \"Cohort\" )\n",
    "plt.ylabel( \"Total children ever born\" )"
   ]
  },
  {
   "cell_type": "code",
   "execution_count": null,
   "metadata": {},
   "outputs": [],
   "source": [
    "# Plot ploints\n",
    "fig = plt.figure( figsize = ( 10, 9 ) )\n",
    "\n",
    "sns.pointplot( x = \"birth_cohort\", y = \"V201\", \n",
    "               data = df, ci = 'sd', hue = 'urban', \n",
    "             dodge = 0.2, \n",
    "              linestyles = [ \"-\", \"--\" ] )\n",
    "\n",
    "# x label\n",
    "plt.xlabel( \"Cohort\" )\n",
    "plt.ylabel( \"Total children ever born\" )\n",
    "\n",
    "# Change legend title\n",
    "plt.legend( title =  \"Type of place\\n of residence\" )"
   ]
  },
  {
   "cell_type": "markdown",
   "metadata": {},
   "source": [
    "## First sex relationship"
   ]
  },
  {
   "cell_type": "code",
   "execution_count": null,
   "metadata": {},
   "outputs": [],
   "source": [
    "df.V525.unique()"
   ]
  },
  {
   "cell_type": "code",
   "execution_count": null,
   "metadata": {},
   "outputs": [],
   "source": [
    "df[ 'first_sex' ] = df.V525.copy()"
   ]
  },
  {
   "cell_type": "code",
   "execution_count": null,
   "metadata": {},
   "outputs": [],
   "source": [
    "df.first_sex.replace( 'Not had intercourse', np.nan, inplace = True )\n",
    "df.first_sex.replace( 'No ha tenido relación sexual', np.nan, inplace = True )\n",
    "df.first_sex.replace( 'Nunca tuvo relaciones sexuales', np.nan, inplace = True )\n",
    "df.first_sex.replace( 'En la primera unión', 'At first union', inplace = True )\n",
    "df.first_sex.replace( 'En la primera union', 'At first union', inplace = True )"
   ]
  },
  {
   "cell_type": "code",
   "execution_count": null,
   "metadata": {},
   "outputs": [],
   "source": [
    "# Filter values in variables\n",
    "\n",
    "filter1 = df.first_sex == 'At first union'\n",
    "df.loc[ filter1 , 'first_sex' ] = df.loc[ filter1 , 'V511' ]"
   ]
  },
  {
   "cell_type": "code",
   "execution_count": null,
   "metadata": {},
   "outputs": [],
   "source": [
    "df.first_sex = df.first_sex.astype( float )"
   ]
  },
  {
   "cell_type": "code",
   "execution_count": null,
   "metadata": {},
   "outputs": [],
   "source": [
    "df.first_sex"
   ]
  },
  {
   "cell_type": "markdown",
   "metadata": {},
   "source": [
    "Celaning region variable"
   ]
  },
  {
   "cell_type": "code",
   "execution_count": null,
   "metadata": {},
   "outputs": [],
   "source": [
    "sns.displot( data = df, x = 'first_sex', \n",
    "            kind = 'kde', col = 'V024', \n",
    "            col_wrap = 3, \n",
    "            facet_kws = {'sharex' : False, \n",
    "                        'sharey' : False }, \n",
    "            hue = 'urban'\n",
    "           )"
   ]
  },
  {
   "cell_type": "code",
   "execution_count": null,
   "metadata": {},
   "outputs": [],
   "source": [
    "df[ 'dpto' ] = df.V024.copy()"
   ]
  },
  {
   "cell_type": "code",
   "execution_count": null,
   "metadata": {},
   "outputs": [],
   "source": [
    "df.dpto = df.dpto.str.lstrip() \\\n",
    "            .str.replace( \" \", \"_\" ) \\\n",
    "            .str.lower() \\\n",
    "            .apply( lambda x :  unidecode.unidecode( x ) )"
   ]
  },
  {
   "cell_type": "code",
   "execution_count": null,
   "metadata": {},
   "outputs": [],
   "source": [
    "sns.displot( data = df, x = 'first_sex', \n",
    "            kind = 'kde', col = 'dpto', \n",
    "            col_wrap = 3, \n",
    "            facet_kws = {'sharex' : False, \n",
    "                        'sharey' : False }, \n",
    "            hue = 'urban'\n",
    "           )"
   ]
  },
  {
   "cell_type": "markdown",
   "metadata": {},
   "source": [
    "## Total children ever born by cohort and wife and husband education"
   ]
  },
  {
   "cell_type": "code",
   "execution_count": null,
   "metadata": {},
   "outputs": [],
   "source": [
    "df[ 'h_educ_yr' ] = df.V715.copy()\n",
    "\n",
    "df.h_educ_yr.replace( 'No sabe', np.nan, inplace = True )\n",
    "df.h_educ_yr.replace( \"Don't know\", np.nan, inplace = True )"
   ]
  },
  {
   "cell_type": "code",
   "execution_count": null,
   "metadata": {},
   "outputs": [],
   "source": [
    "df.loc[ ( df.V133 <= 12 ), 'w_educ' ] = 'Low'\n",
    "df.loc[ ( df.V133 > 12), 'w_educ' ] = 'High'\n",
    "\n",
    "df.loc[ ( df.h_educ_yr <= 12 ), 'h_educ_str' ] = 'Low'\n",
    "df.loc[ ( df.h_educ_yr > 12), 'h_educ_str' ] = 'High'"
   ]
  },
  {
   "cell_type": "code",
   "execution_count": null,
   "metadata": {},
   "outputs": [],
   "source": [
    "# Plot ploints\n",
    "fig = plt.figure( figsize = ( 10, 9 ) )\n",
    "\n",
    "sns.pointplot( x = \"birth_cohort\", y = \"V201\", \n",
    "               data = df, ci = 'sd', hue = 'w_educ', \n",
    "             dodge = 0.2, \n",
    "              linestyles = [ \"-\", \"--\" ] )\n",
    "\n",
    "# x label\n",
    "plt.xlabel( \"Cohort\" )\n",
    "plt.ylabel( \"Total children ever born\" )\n",
    "\n",
    "# Change legend title\n",
    "plt.legend( title =  \"Wife Education\" )"
   ]
  },
  {
   "cell_type": "code",
   "execution_count": null,
   "metadata": {},
   "outputs": [],
   "source": [
    "# Plot ploints\n",
    "fig = plt.figure( figsize = ( 10, 9 ) )\n",
    "\n",
    "sns.pointplot( x = \"birth_cohort\", y = \"V201\", \n",
    "               data = df, ci = 'sd', hue = 'h_educ_str', \n",
    "             dodge = 0.2, \n",
    "              linestyles = [ \"-\", \"--\" ] )\n",
    "\n",
    "# x label\n",
    "plt.xlabel( \"Cohort\" )\n",
    "plt.ylabel( \"Total children ever born\" )\n",
    "\n",
    "# Change legend title\n",
    "plt.legend( title =  \"Husband Education\" )"
   ]
  }
 ],
 "metadata": {
  "hide_input": false,
  "kernelspec": {
   "display_name": "Python 3 (ipykernel)",
   "language": "python",
   "name": "python3"
  },
  "language_info": {
   "codemirror_mode": {
    "name": "ipython",
    "version": 3
   },
   "file_extension": ".py",
   "mimetype": "text/x-python",
   "name": "python",
   "nbconvert_exporter": "python",
   "pygments_lexer": "ipython3",
   "version": "3.11.5"
  },
  "toc": {
   "base_numbering": 1,
   "nav_menu": {},
   "number_sections": true,
   "sideBar": true,
   "skip_h1_title": false,
   "title_cell": "Table of Contents",
   "title_sidebar": "Contents",
   "toc_cell": false,
   "toc_position": {},
   "toc_section_display": true,
   "toc_window_display": false
  }
 },
 "nbformat": 4,
 "nbformat_minor": 4
}
